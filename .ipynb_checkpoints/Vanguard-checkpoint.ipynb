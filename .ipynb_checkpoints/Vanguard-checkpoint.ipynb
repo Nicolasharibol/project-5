{
 "cells": [
  {
   "cell_type": "code",
   "execution_count": 2,
   "id": "0a901e88-4a23-44e9-b10b-f88828c5fdda",
   "metadata": {},
   "outputs": [],
   "source": [
    "import pandas as pd\n",
    "import matplotlib.pyplot as plt\n",
    "import seaborn as sns\n",
    "import numpy as np\n",
    "from statsmodels.stats.proportion import proportions_ztest\n",
    "\n",
    "csv1 = '/Users/admin/Downloads/PROJECT-5/df_final_demo.csv'\n",
    "csv2 = '/Users/admin/Downloads/PROJECT-5/df_final_web_data_pt_1.csv'\n",
    "csv3 = '/Users/admin/Downloads/PROJECT-5/df_final_web_data_pt_2.csv'\n",
    "csv4 = '/Users/admin/Downloads/PROJECT-5/df_final_experiment_clients.csv'\n",
    "df_demo = pd.read_csv(csv1)\n",
    "df_web1 = pd.read_csv(csv2)\n",
    "df_web2 = pd.read_csv(csv3)\n",
    "df_clients = pd.read_csv(csv4)\n",
    "\n"
   ]
  },
  {
   "cell_type": "code",
   "execution_count": 3,
   "id": "c5703c92-6bfd-402d-a6cd-bb710703b4f7",
   "metadata": {},
   "outputs": [],
   "source": [
    "#check values - head, describe (stats), dtypes, unique values"
   ]
  },
  {
   "cell_type": "code",
   "execution_count": 4,
   "id": "b82e712e-6ce4-45e4-9edd-531316b7dbd4",
   "metadata": {},
   "outputs": [
    {
     "data": {
      "text/plain": [
       "(70609, 2)"
      ]
     },
     "execution_count": 4,
     "metadata": {},
     "output_type": "execute_result"
    }
   ],
   "source": [
    "df_clients.shape"
   ]
  },
  {
   "cell_type": "code",
   "execution_count": 5,
   "id": "1c0d8e82-938f-4b83-aff9-c3ba6bd9eb17",
   "metadata": {},
   "outputs": [
    {
     "data": {
      "text/plain": [
       "(70609, 9)"
      ]
     },
     "execution_count": 5,
     "metadata": {},
     "output_type": "execute_result"
    }
   ],
   "source": [
    "df_demo.shape"
   ]
  },
  {
   "cell_type": "code",
   "execution_count": 6,
   "id": "65df5552-7cba-4899-b3ee-10da59fe55fb",
   "metadata": {},
   "outputs": [
    {
     "data": {
      "text/html": [
       "<div>\n",
       "<style scoped>\n",
       "    .dataframe tbody tr th:only-of-type {\n",
       "        vertical-align: middle;\n",
       "    }\n",
       "\n",
       "    .dataframe tbody tr th {\n",
       "        vertical-align: top;\n",
       "    }\n",
       "\n",
       "    .dataframe thead th {\n",
       "        text-align: right;\n",
       "    }\n",
       "</style>\n",
       "<table border=\"1\" class=\"dataframe\">\n",
       "  <thead>\n",
       "    <tr style=\"text-align: right;\">\n",
       "      <th></th>\n",
       "      <th>client_id</th>\n",
       "      <th>clnt_tenure_yr</th>\n",
       "      <th>clnt_tenure_mnth</th>\n",
       "      <th>clnt_age</th>\n",
       "      <th>num_accts</th>\n",
       "      <th>bal</th>\n",
       "      <th>calls_6_mnth</th>\n",
       "      <th>logons_6_mnth</th>\n",
       "    </tr>\n",
       "  </thead>\n",
       "  <tbody>\n",
       "    <tr>\n",
       "      <th>count</th>\n",
       "      <td>70609.00</td>\n",
       "      <td>70595.00</td>\n",
       "      <td>70595.00</td>\n",
       "      <td>70594.00</td>\n",
       "      <td>70595.00</td>\n",
       "      <td>70595.00</td>\n",
       "      <td>70595.00</td>\n",
       "      <td>70595.00</td>\n",
       "    </tr>\n",
       "    <tr>\n",
       "      <th>mean</th>\n",
       "      <td>5004991.88</td>\n",
       "      <td>12.05</td>\n",
       "      <td>150.66</td>\n",
       "      <td>46.44</td>\n",
       "      <td>2.26</td>\n",
       "      <td>147445.24</td>\n",
       "      <td>3.38</td>\n",
       "      <td>5.57</td>\n",
       "    </tr>\n",
       "    <tr>\n",
       "      <th>std</th>\n",
       "      <td>2877277.63</td>\n",
       "      <td>6.87</td>\n",
       "      <td>82.09</td>\n",
       "      <td>15.59</td>\n",
       "      <td>0.53</td>\n",
       "      <td>301508.71</td>\n",
       "      <td>2.24</td>\n",
       "      <td>2.35</td>\n",
       "    </tr>\n",
       "    <tr>\n",
       "      <th>min</th>\n",
       "      <td>169.00</td>\n",
       "      <td>2.00</td>\n",
       "      <td>33.00</td>\n",
       "      <td>13.50</td>\n",
       "      <td>1.00</td>\n",
       "      <td>13789.42</td>\n",
       "      <td>0.00</td>\n",
       "      <td>1.00</td>\n",
       "    </tr>\n",
       "    <tr>\n",
       "      <th>25%</th>\n",
       "      <td>2519329.00</td>\n",
       "      <td>6.00</td>\n",
       "      <td>82.00</td>\n",
       "      <td>32.50</td>\n",
       "      <td>2.00</td>\n",
       "      <td>37346.84</td>\n",
       "      <td>1.00</td>\n",
       "      <td>4.00</td>\n",
       "    </tr>\n",
       "    <tr>\n",
       "      <th>50%</th>\n",
       "      <td>5016978.00</td>\n",
       "      <td>11.00</td>\n",
       "      <td>136.00</td>\n",
       "      <td>47.00</td>\n",
       "      <td>2.00</td>\n",
       "      <td>63332.90</td>\n",
       "      <td>3.00</td>\n",
       "      <td>5.00</td>\n",
       "    </tr>\n",
       "    <tr>\n",
       "      <th>75%</th>\n",
       "      <td>7483085.00</td>\n",
       "      <td>16.00</td>\n",
       "      <td>192.00</td>\n",
       "      <td>59.00</td>\n",
       "      <td>2.00</td>\n",
       "      <td>137544.90</td>\n",
       "      <td>6.00</td>\n",
       "      <td>7.00</td>\n",
       "    </tr>\n",
       "    <tr>\n",
       "      <th>max</th>\n",
       "      <td>9999839.00</td>\n",
       "      <td>62.00</td>\n",
       "      <td>749.00</td>\n",
       "      <td>96.00</td>\n",
       "      <td>8.00</td>\n",
       "      <td>16320040.15</td>\n",
       "      <td>7.00</td>\n",
       "      <td>9.00</td>\n",
       "    </tr>\n",
       "  </tbody>\n",
       "</table>\n",
       "</div>"
      ],
      "text/plain": [
       "        client_id  clnt_tenure_yr  clnt_tenure_mnth  clnt_age  num_accts  \\\n",
       "count    70609.00        70595.00          70595.00  70594.00   70595.00   \n",
       "mean   5004991.88           12.05            150.66     46.44       2.26   \n",
       "std    2877277.63            6.87             82.09     15.59       0.53   \n",
       "min        169.00            2.00             33.00     13.50       1.00   \n",
       "25%    2519329.00            6.00             82.00     32.50       2.00   \n",
       "50%    5016978.00           11.00            136.00     47.00       2.00   \n",
       "75%    7483085.00           16.00            192.00     59.00       2.00   \n",
       "max    9999839.00           62.00            749.00     96.00       8.00   \n",
       "\n",
       "               bal  calls_6_mnth  logons_6_mnth  \n",
       "count     70595.00      70595.00       70595.00  \n",
       "mean     147445.24          3.38           5.57  \n",
       "std      301508.71          2.24           2.35  \n",
       "min       13789.42          0.00           1.00  \n",
       "25%       37346.84          1.00           4.00  \n",
       "50%       63332.90          3.00           5.00  \n",
       "75%      137544.90          6.00           7.00  \n",
       "max    16320040.15          7.00           9.00  "
      ]
     },
     "execution_count": 6,
     "metadata": {},
     "output_type": "execute_result"
    }
   ],
   "source": [
    "df_demo.describe().round(2)  "
   ]
  },
  {
   "cell_type": "code",
   "execution_count": 7,
   "id": "06e3cc87-9d42-40db-bd1f-b7a46a992a1c",
   "metadata": {},
   "outputs": [],
   "source": [
    "df_demo.rename(columns= {'clnt_tenure_yr': 'tenure[y]', 'clnt_tenure_mnth': 'tenure[m]', 'clnt_age': 'age', 'gendr':'gender', 'num_accts': 'accounts', 'bal': 'balance', 'calls_6_mnth': 'calls_6mth', 'logons_6_mnth': 'logins_6mth'}, inplace=True)"
   ]
  },
  {
   "cell_type": "code",
   "execution_count": 8,
   "id": "e68ba4a4-cb19-405f-8c6c-0c8ea4af568b",
   "metadata": {},
   "outputs": [
    {
     "data": {
      "text/html": [
       "<div>\n",
       "<style scoped>\n",
       "    .dataframe tbody tr th:only-of-type {\n",
       "        vertical-align: middle;\n",
       "    }\n",
       "\n",
       "    .dataframe tbody tr th {\n",
       "        vertical-align: top;\n",
       "    }\n",
       "\n",
       "    .dataframe thead th {\n",
       "        text-align: right;\n",
       "    }\n",
       "</style>\n",
       "<table border=\"1\" class=\"dataframe\">\n",
       "  <thead>\n",
       "    <tr style=\"text-align: right;\">\n",
       "      <th></th>\n",
       "      <th>client_id</th>\n",
       "      <th>tenure[y]</th>\n",
       "      <th>tenure[m]</th>\n",
       "      <th>age</th>\n",
       "      <th>gender</th>\n",
       "      <th>accounts</th>\n",
       "      <th>balance</th>\n",
       "      <th>calls_6mth</th>\n",
       "      <th>logins_6mth</th>\n",
       "    </tr>\n",
       "  </thead>\n",
       "  <tbody>\n",
       "    <tr>\n",
       "      <th>0</th>\n",
       "      <td>836976</td>\n",
       "      <td>6.0</td>\n",
       "      <td>73.0</td>\n",
       "      <td>60.5</td>\n",
       "      <td>U</td>\n",
       "      <td>2.0</td>\n",
       "      <td>45105.30</td>\n",
       "      <td>6.0</td>\n",
       "      <td>9.0</td>\n",
       "    </tr>\n",
       "    <tr>\n",
       "      <th>1</th>\n",
       "      <td>2304905</td>\n",
       "      <td>7.0</td>\n",
       "      <td>94.0</td>\n",
       "      <td>58.0</td>\n",
       "      <td>U</td>\n",
       "      <td>2.0</td>\n",
       "      <td>110860.30</td>\n",
       "      <td>6.0</td>\n",
       "      <td>9.0</td>\n",
       "    </tr>\n",
       "    <tr>\n",
       "      <th>2</th>\n",
       "      <td>1439522</td>\n",
       "      <td>5.0</td>\n",
       "      <td>64.0</td>\n",
       "      <td>32.0</td>\n",
       "      <td>U</td>\n",
       "      <td>2.0</td>\n",
       "      <td>52467.79</td>\n",
       "      <td>6.0</td>\n",
       "      <td>9.0</td>\n",
       "    </tr>\n",
       "    <tr>\n",
       "      <th>3</th>\n",
       "      <td>1562045</td>\n",
       "      <td>16.0</td>\n",
       "      <td>198.0</td>\n",
       "      <td>49.0</td>\n",
       "      <td>M</td>\n",
       "      <td>2.0</td>\n",
       "      <td>67454.65</td>\n",
       "      <td>3.0</td>\n",
       "      <td>6.0</td>\n",
       "    </tr>\n",
       "    <tr>\n",
       "      <th>4</th>\n",
       "      <td>5126305</td>\n",
       "      <td>12.0</td>\n",
       "      <td>145.0</td>\n",
       "      <td>33.0</td>\n",
       "      <td>F</td>\n",
       "      <td>2.0</td>\n",
       "      <td>103671.75</td>\n",
       "      <td>0.0</td>\n",
       "      <td>3.0</td>\n",
       "    </tr>\n",
       "    <tr>\n",
       "      <th>...</th>\n",
       "      <td>...</td>\n",
       "      <td>...</td>\n",
       "      <td>...</td>\n",
       "      <td>...</td>\n",
       "      <td>...</td>\n",
       "      <td>...</td>\n",
       "      <td>...</td>\n",
       "      <td>...</td>\n",
       "      <td>...</td>\n",
       "    </tr>\n",
       "    <tr>\n",
       "      <th>70604</th>\n",
       "      <td>7993686</td>\n",
       "      <td>4.0</td>\n",
       "      <td>56.0</td>\n",
       "      <td>38.5</td>\n",
       "      <td>U</td>\n",
       "      <td>3.0</td>\n",
       "      <td>1411062.68</td>\n",
       "      <td>5.0</td>\n",
       "      <td>5.0</td>\n",
       "    </tr>\n",
       "    <tr>\n",
       "      <th>70605</th>\n",
       "      <td>8981690</td>\n",
       "      <td>12.0</td>\n",
       "      <td>148.0</td>\n",
       "      <td>31.0</td>\n",
       "      <td>M</td>\n",
       "      <td>2.0</td>\n",
       "      <td>101867.07</td>\n",
       "      <td>6.0</td>\n",
       "      <td>6.0</td>\n",
       "    </tr>\n",
       "    <tr>\n",
       "      <th>70606</th>\n",
       "      <td>333913</td>\n",
       "      <td>16.0</td>\n",
       "      <td>198.0</td>\n",
       "      <td>61.5</td>\n",
       "      <td>F</td>\n",
       "      <td>2.0</td>\n",
       "      <td>40745.00</td>\n",
       "      <td>3.0</td>\n",
       "      <td>3.0</td>\n",
       "    </tr>\n",
       "    <tr>\n",
       "      <th>70607</th>\n",
       "      <td>1573142</td>\n",
       "      <td>21.0</td>\n",
       "      <td>255.0</td>\n",
       "      <td>68.0</td>\n",
       "      <td>M</td>\n",
       "      <td>3.0</td>\n",
       "      <td>475114.69</td>\n",
       "      <td>4.0</td>\n",
       "      <td>4.0</td>\n",
       "    </tr>\n",
       "    <tr>\n",
       "      <th>70608</th>\n",
       "      <td>5602139</td>\n",
       "      <td>21.0</td>\n",
       "      <td>254.0</td>\n",
       "      <td>59.5</td>\n",
       "      <td>F</td>\n",
       "      <td>3.0</td>\n",
       "      <td>157498.73</td>\n",
       "      <td>7.0</td>\n",
       "      <td>7.0</td>\n",
       "    </tr>\n",
       "  </tbody>\n",
       "</table>\n",
       "<p>70609 rows × 9 columns</p>\n",
       "</div>"
      ],
      "text/plain": [
       "       client_id  tenure[y]  tenure[m]   age gender  accounts     balance  \\\n",
       "0         836976        6.0       73.0  60.5      U       2.0    45105.30   \n",
       "1        2304905        7.0       94.0  58.0      U       2.0   110860.30   \n",
       "2        1439522        5.0       64.0  32.0      U       2.0    52467.79   \n",
       "3        1562045       16.0      198.0  49.0      M       2.0    67454.65   \n",
       "4        5126305       12.0      145.0  33.0      F       2.0   103671.75   \n",
       "...          ...        ...        ...   ...    ...       ...         ...   \n",
       "70604    7993686        4.0       56.0  38.5      U       3.0  1411062.68   \n",
       "70605    8981690       12.0      148.0  31.0      M       2.0   101867.07   \n",
       "70606     333913       16.0      198.0  61.5      F       2.0    40745.00   \n",
       "70607    1573142       21.0      255.0  68.0      M       3.0   475114.69   \n",
       "70608    5602139       21.0      254.0  59.5      F       3.0   157498.73   \n",
       "\n",
       "       calls_6mth  logins_6mth  \n",
       "0             6.0          9.0  \n",
       "1             6.0          9.0  \n",
       "2             6.0          9.0  \n",
       "3             3.0          6.0  \n",
       "4             0.0          3.0  \n",
       "...           ...          ...  \n",
       "70604         5.0          5.0  \n",
       "70605         6.0          6.0  \n",
       "70606         3.0          3.0  \n",
       "70607         4.0          4.0  \n",
       "70608         7.0          7.0  \n",
       "\n",
       "[70609 rows x 9 columns]"
      ]
     },
     "execution_count": 8,
     "metadata": {},
     "output_type": "execute_result"
    }
   ],
   "source": [
    "df_demo"
   ]
  },
  {
   "cell_type": "code",
   "execution_count": 9,
   "id": "396314a9-b7cd-4356-9c3f-bec23d818901",
   "metadata": {},
   "outputs": [
    {
     "data": {
      "text/plain": [
       "(343141, 5)"
      ]
     },
     "execution_count": 9,
     "metadata": {},
     "output_type": "execute_result"
    }
   ],
   "source": [
    "df_web1\n",
    "df_web1.shape"
   ]
  },
  {
   "cell_type": "code",
   "execution_count": 10,
   "id": "3e12505b-33c4-4a29-aa94-9218806bddf8",
   "metadata": {},
   "outputs": [
    {
     "data": {
      "text/plain": [
       "client_id        int64\n",
       "visitor_id      object\n",
       "visit_id        object\n",
       "process_step    object\n",
       "date_time       object\n",
       "dtype: object"
      ]
     },
     "execution_count": 10,
     "metadata": {},
     "output_type": "execute_result"
    }
   ],
   "source": [
    "df_web1.dtypes"
   ]
  },
  {
   "cell_type": "code",
   "execution_count": 11,
   "id": "fdd69062-3961-46d6-b577-c1809bd5b6f6",
   "metadata": {},
   "outputs": [
    {
     "data": {
      "text/plain": [
       "(412264, 5)"
      ]
     },
     "execution_count": 11,
     "metadata": {},
     "output_type": "execute_result"
    }
   ],
   "source": [
    "df_web2.shape"
   ]
  },
  {
   "cell_type": "code",
   "execution_count": 12,
   "id": "35135eb6-0eb1-4647-a470-0dd0a0a8e67c",
   "metadata": {},
   "outputs": [
    {
     "data": {
      "text/html": [
       "<div>\n",
       "<style scoped>\n",
       "    .dataframe tbody tr th:only-of-type {\n",
       "        vertical-align: middle;\n",
       "    }\n",
       "\n",
       "    .dataframe tbody tr th {\n",
       "        vertical-align: top;\n",
       "    }\n",
       "\n",
       "    .dataframe thead th {\n",
       "        text-align: right;\n",
       "    }\n",
       "</style>\n",
       "<table border=\"1\" class=\"dataframe\">\n",
       "  <thead>\n",
       "    <tr style=\"text-align: right;\">\n",
       "      <th></th>\n",
       "      <th>client_id</th>\n",
       "      <th>visitor_id</th>\n",
       "      <th>visit_id</th>\n",
       "      <th>process_step</th>\n",
       "      <th>date_time</th>\n",
       "    </tr>\n",
       "  </thead>\n",
       "  <tbody>\n",
       "    <tr>\n",
       "      <th>0</th>\n",
       "      <td>9988021</td>\n",
       "      <td>580560515_7732621733</td>\n",
       "      <td>781255054_21935453173_531117</td>\n",
       "      <td>step_3</td>\n",
       "      <td>2017-04-17 15:27:07</td>\n",
       "    </tr>\n",
       "    <tr>\n",
       "      <th>1</th>\n",
       "      <td>9988021</td>\n",
       "      <td>580560515_7732621733</td>\n",
       "      <td>781255054_21935453173_531117</td>\n",
       "      <td>step_2</td>\n",
       "      <td>2017-04-17 15:26:51</td>\n",
       "    </tr>\n",
       "    <tr>\n",
       "      <th>2</th>\n",
       "      <td>9988021</td>\n",
       "      <td>580560515_7732621733</td>\n",
       "      <td>781255054_21935453173_531117</td>\n",
       "      <td>step_3</td>\n",
       "      <td>2017-04-17 15:19:22</td>\n",
       "    </tr>\n",
       "    <tr>\n",
       "      <th>3</th>\n",
       "      <td>9988021</td>\n",
       "      <td>580560515_7732621733</td>\n",
       "      <td>781255054_21935453173_531117</td>\n",
       "      <td>step_2</td>\n",
       "      <td>2017-04-17 15:19:13</td>\n",
       "    </tr>\n",
       "    <tr>\n",
       "      <th>4</th>\n",
       "      <td>9988021</td>\n",
       "      <td>580560515_7732621733</td>\n",
       "      <td>781255054_21935453173_531117</td>\n",
       "      <td>step_3</td>\n",
       "      <td>2017-04-17 15:18:04</td>\n",
       "    </tr>\n",
       "    <tr>\n",
       "      <th>...</th>\n",
       "      <td>...</td>\n",
       "      <td>...</td>\n",
       "      <td>...</td>\n",
       "      <td>...</td>\n",
       "      <td>...</td>\n",
       "    </tr>\n",
       "    <tr>\n",
       "      <th>412259</th>\n",
       "      <td>9668240</td>\n",
       "      <td>388766751_9038881013</td>\n",
       "      <td>922267647_3096648104_968866</td>\n",
       "      <td>start</td>\n",
       "      <td>2017-05-24 18:46:10</td>\n",
       "    </tr>\n",
       "    <tr>\n",
       "      <th>412260</th>\n",
       "      <td>9668240</td>\n",
       "      <td>388766751_9038881013</td>\n",
       "      <td>922267647_3096648104_968866</td>\n",
       "      <td>start</td>\n",
       "      <td>2017-05-24 18:45:29</td>\n",
       "    </tr>\n",
       "    <tr>\n",
       "      <th>412261</th>\n",
       "      <td>9668240</td>\n",
       "      <td>388766751_9038881013</td>\n",
       "      <td>922267647_3096648104_968866</td>\n",
       "      <td>step_1</td>\n",
       "      <td>2017-05-24 18:44:51</td>\n",
       "    </tr>\n",
       "    <tr>\n",
       "      <th>412262</th>\n",
       "      <td>9668240</td>\n",
       "      <td>388766751_9038881013</td>\n",
       "      <td>922267647_3096648104_968866</td>\n",
       "      <td>start</td>\n",
       "      <td>2017-05-24 18:44:34</td>\n",
       "    </tr>\n",
       "    <tr>\n",
       "      <th>412263</th>\n",
       "      <td>674799</td>\n",
       "      <td>947159805_81558194550</td>\n",
       "      <td>86152093_47511127657_716022</td>\n",
       "      <td>start</td>\n",
       "      <td>2017-06-03 12:17:09</td>\n",
       "    </tr>\n",
       "  </tbody>\n",
       "</table>\n",
       "<p>755405 rows × 5 columns</p>\n",
       "</div>"
      ],
      "text/plain": [
       "        client_id             visitor_id                      visit_id  \\\n",
       "0         9988021   580560515_7732621733  781255054_21935453173_531117   \n",
       "1         9988021   580560515_7732621733  781255054_21935453173_531117   \n",
       "2         9988021   580560515_7732621733  781255054_21935453173_531117   \n",
       "3         9988021   580560515_7732621733  781255054_21935453173_531117   \n",
       "4         9988021   580560515_7732621733  781255054_21935453173_531117   \n",
       "...           ...                    ...                           ...   \n",
       "412259    9668240   388766751_9038881013   922267647_3096648104_968866   \n",
       "412260    9668240   388766751_9038881013   922267647_3096648104_968866   \n",
       "412261    9668240   388766751_9038881013   922267647_3096648104_968866   \n",
       "412262    9668240   388766751_9038881013   922267647_3096648104_968866   \n",
       "412263     674799  947159805_81558194550   86152093_47511127657_716022   \n",
       "\n",
       "       process_step            date_time  \n",
       "0            step_3  2017-04-17 15:27:07  \n",
       "1            step_2  2017-04-17 15:26:51  \n",
       "2            step_3  2017-04-17 15:19:22  \n",
       "3            step_2  2017-04-17 15:19:13  \n",
       "4            step_3  2017-04-17 15:18:04  \n",
       "...             ...                  ...  \n",
       "412259        start  2017-05-24 18:46:10  \n",
       "412260        start  2017-05-24 18:45:29  \n",
       "412261       step_1  2017-05-24 18:44:51  \n",
       "412262        start  2017-05-24 18:44:34  \n",
       "412263        start  2017-06-03 12:17:09  \n",
       "\n",
       "[755405 rows x 5 columns]"
      ]
     },
     "execution_count": 12,
     "metadata": {},
     "output_type": "execute_result"
    }
   ],
   "source": [
    "df_web = pd.concat([df_web1, df_web2], axis=0)  # axis=0 joining rows\n",
    "df_web"
   ]
  },
  {
   "cell_type": "code",
   "execution_count": 13,
   "id": "36fc5850-e438-4681-9c84-ed1fb7f02cbe",
   "metadata": {},
   "outputs": [],
   "source": [
    "#generate the dataframes + concat the 2 web ones"
   ]
  },
  {
   "cell_type": "code",
   "execution_count": 14,
   "id": "413defd1-19b7-4a63-8c75-031826e27c9c",
   "metadata": {},
   "outputs": [],
   "source": [
    "#check stats"
   ]
  },
  {
   "cell_type": "code",
   "execution_count": 15,
   "id": "a1f47c29-0409-4a4f-b732-c815b3ac9daa",
   "metadata": {},
   "outputs": [],
   "source": [
    "#check dtypes"
   ]
  },
  {
   "cell_type": "code",
   "execution_count": 16,
   "id": "7ec40332-68c6-460e-9f18-edd77b1a9feb",
   "metadata": {},
   "outputs": [
    {
     "data": {
      "text/plain": [
       "client_id     int64\n",
       "Variation    object\n",
       "dtype: object"
      ]
     },
     "execution_count": 16,
     "metadata": {},
     "output_type": "execute_result"
    }
   ],
   "source": [
    "df_clients.dtypes"
   ]
  },
  {
   "cell_type": "code",
   "execution_count": 17,
   "id": "6b411c7c-bc90-42c9-ab6c-fb20450e1da0",
   "metadata": {},
   "outputs": [
    {
     "data": {
      "text/plain": [
       "client_id        int64\n",
       "visitor_id      object\n",
       "visit_id        object\n",
       "process_step    object\n",
       "date_time       object\n",
       "dtype: object"
      ]
     },
     "execution_count": 17,
     "metadata": {},
     "output_type": "execute_result"
    }
   ],
   "source": [
    "df_web.dtypes"
   ]
  },
  {
   "cell_type": "code",
   "execution_count": 18,
   "id": "8c42e026-0835-4f1b-9719-5bfbb364d42d",
   "metadata": {},
   "outputs": [
    {
     "data": {
      "text/plain": [
       "client_id        int64\n",
       "tenure[y]      float64\n",
       "tenure[m]      float64\n",
       "age            float64\n",
       "gender          object\n",
       "accounts       float64\n",
       "balance        float64\n",
       "calls_6mth     float64\n",
       "logins_6mth    float64\n",
       "dtype: object"
      ]
     },
     "execution_count": 18,
     "metadata": {},
     "output_type": "execute_result"
    }
   ],
   "source": [
    "df_demo.dtypes"
   ]
  },
  {
   "cell_type": "code",
   "execution_count": 19,
   "id": "6ac0ea19-25d2-4eba-91ff-1502163a4a4f",
   "metadata": {},
   "outputs": [],
   "source": [
    "#check unique values"
   ]
  },
  {
   "cell_type": "code",
   "execution_count": 20,
   "id": "a6a78536-87f0-4548-93ef-43afd68eeeda",
   "metadata": {},
   "outputs": [
    {
     "data": {
      "text/plain": [
       "client_id      70609\n",
       "tenure[y]         54\n",
       "tenure[m]        482\n",
       "age              165\n",
       "gender             4\n",
       "accounts           8\n",
       "balance        70328\n",
       "calls_6mth         8\n",
       "logins_6mth        9\n",
       "dtype: int64"
      ]
     },
     "execution_count": 20,
     "metadata": {},
     "output_type": "execute_result"
    }
   ],
   "source": [
    "df_demo.nunique()"
   ]
  },
  {
   "cell_type": "code",
   "execution_count": 21,
   "id": "4b94a878-f259-4988-88aa-f6f9a38d9842",
   "metadata": {},
   "outputs": [
    {
     "data": {
      "text/plain": [
       "client_id       120157\n",
       "visitor_id      130236\n",
       "visit_id        158095\n",
       "process_step         5\n",
       "date_time       629363\n",
       "dtype: int64"
      ]
     },
     "execution_count": 21,
     "metadata": {},
     "output_type": "execute_result"
    }
   ],
   "source": [
    "df_web.nunique()"
   ]
  },
  {
   "cell_type": "code",
   "execution_count": 22,
   "id": "becc6b0b-21e6-4224-8bd5-6d0a8eac09ae",
   "metadata": {},
   "outputs": [
    {
     "data": {
      "text/plain": [
       "client_id    70609\n",
       "Variation        2\n",
       "dtype: int64"
      ]
     },
     "execution_count": 22,
     "metadata": {},
     "output_type": "execute_result"
    }
   ],
   "source": [
    "df_clients.nunique()"
   ]
  },
  {
   "cell_type": "code",
   "execution_count": 23,
   "id": "f85448eb-956f-47c5-9981-a3aaa3c4632d",
   "metadata": {},
   "outputs": [],
   "source": [
    "#check null values in each table"
   ]
  },
  {
   "cell_type": "code",
   "execution_count": 24,
   "id": "d70b8d98-639a-406d-a901-4d49568ec70e",
   "metadata": {},
   "outputs": [
    {
     "name": "stdout",
     "output_type": "stream",
     "text": [
      "The percentage of empty cells in column client_id is 0.0 %.\n",
      "The percentage of empty cells in column tenure[y] is 0.02 %.\n",
      "The percentage of empty cells in column tenure[m] is 0.02 %.\n",
      "The percentage of empty cells in column age is 0.02 %.\n",
      "The percentage of empty cells in column gender is 0.02 %.\n",
      "The percentage of empty cells in column accounts is 0.02 %.\n",
      "The percentage of empty cells in column balance is 0.02 %.\n",
      "The percentage of empty cells in column calls_6mth is 0.02 %.\n",
      "The percentage of empty cells in column logins_6mth is 0.02 %.\n"
     ]
    }
   ],
   "source": [
    "#demo\n",
    "for x in df_demo.columns:\n",
    "    print(f\"The percentage of empty cells in column {x} is {round(df_demo[x].isna().sum()/len(df_demo[x])*100,2)} %.\")"
   ]
  },
  {
   "cell_type": "code",
   "execution_count": 25,
   "id": "edb7932d-63fb-49eb-ab39-16ab43a7dcb7",
   "metadata": {},
   "outputs": [
    {
     "name": "stdout",
     "output_type": "stream",
     "text": [
      "The percentage of empty cells in column client_id is 0.0 %.\n",
      "The percentage of empty cells in column visitor_id is 0.0 %.\n",
      "The percentage of empty cells in column visit_id is 0.0 %.\n",
      "The percentage of empty cells in column process_step is 0.0 %.\n",
      "The percentage of empty cells in column date_time is 0.0 %.\n"
     ]
    }
   ],
   "source": [
    "#web\n",
    "for x in df_web.columns:\n",
    "    print(f\"The percentage of empty cells in column {x} is {round(df_web[x].isna().sum()/len(df_web[x])*100,2)} %.\")"
   ]
  },
  {
   "cell_type": "code",
   "execution_count": 26,
   "id": "708e7d83-5d4e-400a-88bf-a9174a5b0ea4",
   "metadata": {},
   "outputs": [
    {
     "name": "stdout",
     "output_type": "stream",
     "text": [
      "The percentage of empty cells in column client_id is 0.0 %.\n",
      "The percentage of empty cells in column Variation is 28.48 %.\n"
     ]
    }
   ],
   "source": [
    "#clients\n",
    "for x in df_clients.columns:\n",
    "    print(f\"The percentage of empty cells in column {x} is {round(df_clients[x].isna().sum()/len(df_clients[x])*100,2)} %.\")"
   ]
  },
  {
   "cell_type": "code",
   "execution_count": 27,
   "id": "cb862c26-5df9-4f40-afd7-8a122d24b371",
   "metadata": {},
   "outputs": [
    {
     "data": {
      "text/plain": [
       "gender\n",
       "U    24122\n",
       "M    23724\n",
       "F    22746\n",
       "X        3\n",
       "Name: count, dtype: int64"
      ]
     },
     "execution_count": 27,
     "metadata": {},
     "output_type": "execute_result"
    }
   ],
   "source": [
    "df_demo['gender'].value_counts()"
   ]
  },
  {
   "cell_type": "code",
   "execution_count": 28,
   "id": "53da7480-cd7b-46cb-aa29-7e1c2fce54cd",
   "metadata": {
    "scrolled": true
   },
   "outputs": [
    {
     "data": {
      "text/plain": [
       "age\n",
       "58.5    859\n",
       "55.5    830\n",
       "29.5    829\n",
       "28.5    827\n",
       "57.5    826\n",
       "       ... \n",
       "96.0      2\n",
       "14.0      2\n",
       "94.5      1\n",
       "95.5      1\n",
       "13.5      1\n",
       "Name: count, Length: 165, dtype: int64"
      ]
     },
     "execution_count": 28,
     "metadata": {},
     "output_type": "execute_result"
    }
   ],
   "source": [
    "df_demo['age'].value_counts()"
   ]
  },
  {
   "cell_type": "code",
   "execution_count": 29,
   "id": "9b28567a-55c0-454b-8097-798064a0dec4",
   "metadata": {},
   "outputs": [],
   "source": [
    "#drop values"
   ]
  },
  {
   "cell_type": "code",
   "execution_count": 30,
   "id": "bd708de7-ca0c-438c-8ff3-098f6c7bd9ea",
   "metadata": {},
   "outputs": [],
   "source": [
    "df_demo.dropna(thresh=3, inplace=True)   # Keep rows with at least 3 non-null values\n",
    "#dropped around 5k rows"
   ]
  },
  {
   "cell_type": "code",
   "execution_count": 31,
   "id": "6f9b5609-ec52-4651-8ca0-9ecbc61ddf00",
   "metadata": {},
   "outputs": [],
   "source": [
    "df_clients = df_clients.dropna(subset=['Variation'])\n",
    "#dropped around 20k"
   ]
  },
  {
   "cell_type": "code",
   "execution_count": 32,
   "id": "2917214b-974e-4ec5-840d-2f35438ec089",
   "metadata": {},
   "outputs": [],
   "source": [
    "df_web.drop_duplicates(inplace=True)\n",
    "#dropped around 11k"
   ]
  },
  {
   "cell_type": "code",
   "execution_count": 33,
   "id": "b188094c-aaee-416b-a79c-c53c59d525ad",
   "metadata": {},
   "outputs": [
    {
     "data": {
      "text/plain": [
       "client_id       120157\n",
       "visitor_id      130236\n",
       "visit_id        158095\n",
       "process_step         5\n",
       "date_time       629363\n",
       "dtype: int64"
      ]
     },
     "execution_count": 33,
     "metadata": {},
     "output_type": "execute_result"
    }
   ],
   "source": [
    "df_web.nunique()"
   ]
  },
  {
   "cell_type": "code",
   "execution_count": 34,
   "id": "078c0f83-dcf3-40fa-85ae-9fa3da63656b",
   "metadata": {},
   "outputs": [
    {
     "data": {
      "text/html": [
       "<div>\n",
       "<style scoped>\n",
       "    .dataframe tbody tr th:only-of-type {\n",
       "        vertical-align: middle;\n",
       "    }\n",
       "\n",
       "    .dataframe tbody tr th {\n",
       "        vertical-align: top;\n",
       "    }\n",
       "\n",
       "    .dataframe thead th {\n",
       "        text-align: right;\n",
       "    }\n",
       "</style>\n",
       "<table border=\"1\" class=\"dataframe\">\n",
       "  <thead>\n",
       "    <tr style=\"text-align: right;\">\n",
       "      <th></th>\n",
       "      <th>client_id</th>\n",
       "      <th>visitor_id</th>\n",
       "      <th>visit_id</th>\n",
       "      <th>process_step</th>\n",
       "      <th>date_time</th>\n",
       "    </tr>\n",
       "  </thead>\n",
       "  <tbody>\n",
       "    <tr>\n",
       "      <th>0</th>\n",
       "      <td>9988021</td>\n",
       "      <td>580560515_7732621733</td>\n",
       "      <td>781255054_21935453173_531117</td>\n",
       "      <td>step_3</td>\n",
       "      <td>2017-04-17 15:27:07</td>\n",
       "    </tr>\n",
       "    <tr>\n",
       "      <th>1</th>\n",
       "      <td>9988021</td>\n",
       "      <td>580560515_7732621733</td>\n",
       "      <td>781255054_21935453173_531117</td>\n",
       "      <td>step_2</td>\n",
       "      <td>2017-04-17 15:26:51</td>\n",
       "    </tr>\n",
       "    <tr>\n",
       "      <th>2</th>\n",
       "      <td>9988021</td>\n",
       "      <td>580560515_7732621733</td>\n",
       "      <td>781255054_21935453173_531117</td>\n",
       "      <td>step_3</td>\n",
       "      <td>2017-04-17 15:19:22</td>\n",
       "    </tr>\n",
       "    <tr>\n",
       "      <th>3</th>\n",
       "      <td>9988021</td>\n",
       "      <td>580560515_7732621733</td>\n",
       "      <td>781255054_21935453173_531117</td>\n",
       "      <td>step_2</td>\n",
       "      <td>2017-04-17 15:19:13</td>\n",
       "    </tr>\n",
       "    <tr>\n",
       "      <th>4</th>\n",
       "      <td>9988021</td>\n",
       "      <td>580560515_7732621733</td>\n",
       "      <td>781255054_21935453173_531117</td>\n",
       "      <td>step_3</td>\n",
       "      <td>2017-04-17 15:18:04</td>\n",
       "    </tr>\n",
       "  </tbody>\n",
       "</table>\n",
       "</div>"
      ],
      "text/plain": [
       "   client_id            visitor_id                      visit_id process_step  \\\n",
       "0    9988021  580560515_7732621733  781255054_21935453173_531117       step_3   \n",
       "1    9988021  580560515_7732621733  781255054_21935453173_531117       step_2   \n",
       "2    9988021  580560515_7732621733  781255054_21935453173_531117       step_3   \n",
       "3    9988021  580560515_7732621733  781255054_21935453173_531117       step_2   \n",
       "4    9988021  580560515_7732621733  781255054_21935453173_531117       step_3   \n",
       "\n",
       "             date_time  \n",
       "0  2017-04-17 15:27:07  \n",
       "1  2017-04-17 15:26:51  \n",
       "2  2017-04-17 15:19:22  \n",
       "3  2017-04-17 15:19:13  \n",
       "4  2017-04-17 15:18:04  "
      ]
     },
     "execution_count": 34,
     "metadata": {},
     "output_type": "execute_result"
    }
   ],
   "source": [
    "df_web.head(5)"
   ]
  },
  {
   "cell_type": "code",
   "execution_count": 35,
   "id": "5b2fab73-ce9d-4e04-acf5-4e71395c888a",
   "metadata": {},
   "outputs": [],
   "source": [
    "#check shapes after all first stage of cleaning"
   ]
  },
  {
   "cell_type": "code",
   "execution_count": 36,
   "id": "62a86f72-dcff-4abe-af4d-5eb623e1efd7",
   "metadata": {},
   "outputs": [
    {
     "data": {
      "text/plain": [
       "(50500, 2)"
      ]
     },
     "execution_count": 36,
     "metadata": {},
     "output_type": "execute_result"
    }
   ],
   "source": [
    "df_clients.shape"
   ]
  },
  {
   "cell_type": "code",
   "execution_count": 37,
   "id": "bb1ffd3c-400b-4803-b165-9e885e1a5322",
   "metadata": {},
   "outputs": [
    {
     "data": {
      "text/plain": [
       "(70595, 9)"
      ]
     },
     "execution_count": 37,
     "metadata": {},
     "output_type": "execute_result"
    }
   ],
   "source": [
    "df_demo.shape"
   ]
  },
  {
   "cell_type": "code",
   "execution_count": 38,
   "id": "752312b2-ead6-4e1a-a83d-82c9b23f0545",
   "metadata": {},
   "outputs": [
    {
     "data": {
      "text/plain": [
       "(744641, 5)"
      ]
     },
     "execution_count": 38,
     "metadata": {},
     "output_type": "execute_result"
    }
   ],
   "source": [
    "df_web.shape"
   ]
  },
  {
   "cell_type": "code",
   "execution_count": 39,
   "id": "92e16347-157f-48ab-b5d3-995e415c7390",
   "metadata": {},
   "outputs": [
    {
     "data": {
      "text/html": [
       "<div>\n",
       "<style scoped>\n",
       "    .dataframe tbody tr th:only-of-type {\n",
       "        vertical-align: middle;\n",
       "    }\n",
       "\n",
       "    .dataframe tbody tr th {\n",
       "        vertical-align: top;\n",
       "    }\n",
       "\n",
       "    .dataframe thead th {\n",
       "        text-align: right;\n",
       "    }\n",
       "</style>\n",
       "<table border=\"1\" class=\"dataframe\">\n",
       "  <thead>\n",
       "    <tr style=\"text-align: right;\">\n",
       "      <th></th>\n",
       "      <th>client_id</th>\n",
       "      <th>tenure[y]</th>\n",
       "      <th>tenure[m]</th>\n",
       "      <th>age</th>\n",
       "      <th>accounts</th>\n",
       "      <th>balance</th>\n",
       "      <th>calls_6mth</th>\n",
       "      <th>logins_6mth</th>\n",
       "    </tr>\n",
       "  </thead>\n",
       "  <tbody>\n",
       "    <tr>\n",
       "      <th>count</th>\n",
       "      <td>70595.00</td>\n",
       "      <td>70595.00</td>\n",
       "      <td>70595.00</td>\n",
       "      <td>70594.00</td>\n",
       "      <td>70595.00</td>\n",
       "      <td>70595.00</td>\n",
       "      <td>70595.00</td>\n",
       "      <td>70595.00</td>\n",
       "    </tr>\n",
       "    <tr>\n",
       "      <th>mean</th>\n",
       "      <td>5005020.95</td>\n",
       "      <td>12.05</td>\n",
       "      <td>150.66</td>\n",
       "      <td>46.44</td>\n",
       "      <td>2.26</td>\n",
       "      <td>147445.24</td>\n",
       "      <td>3.38</td>\n",
       "      <td>5.57</td>\n",
       "    </tr>\n",
       "    <tr>\n",
       "      <th>std</th>\n",
       "      <td>2877269.22</td>\n",
       "      <td>6.87</td>\n",
       "      <td>82.09</td>\n",
       "      <td>15.59</td>\n",
       "      <td>0.53</td>\n",
       "      <td>301508.71</td>\n",
       "      <td>2.24</td>\n",
       "      <td>2.35</td>\n",
       "    </tr>\n",
       "    <tr>\n",
       "      <th>min</th>\n",
       "      <td>169.00</td>\n",
       "      <td>2.00</td>\n",
       "      <td>33.00</td>\n",
       "      <td>13.50</td>\n",
       "      <td>1.00</td>\n",
       "      <td>13789.42</td>\n",
       "      <td>0.00</td>\n",
       "      <td>1.00</td>\n",
       "    </tr>\n",
       "    <tr>\n",
       "      <th>25%</th>\n",
       "      <td>2519604.50</td>\n",
       "      <td>6.00</td>\n",
       "      <td>82.00</td>\n",
       "      <td>32.50</td>\n",
       "      <td>2.00</td>\n",
       "      <td>37346.84</td>\n",
       "      <td>1.00</td>\n",
       "      <td>4.00</td>\n",
       "    </tr>\n",
       "    <tr>\n",
       "      <th>50%</th>\n",
       "      <td>5016969.00</td>\n",
       "      <td>11.00</td>\n",
       "      <td>136.00</td>\n",
       "      <td>47.00</td>\n",
       "      <td>2.00</td>\n",
       "      <td>63332.90</td>\n",
       "      <td>3.00</td>\n",
       "      <td>5.00</td>\n",
       "    </tr>\n",
       "    <tr>\n",
       "      <th>75%</th>\n",
       "      <td>7483063.50</td>\n",
       "      <td>16.00</td>\n",
       "      <td>192.00</td>\n",
       "      <td>59.00</td>\n",
       "      <td>2.00</td>\n",
       "      <td>137544.90</td>\n",
       "      <td>6.00</td>\n",
       "      <td>7.00</td>\n",
       "    </tr>\n",
       "    <tr>\n",
       "      <th>max</th>\n",
       "      <td>9999839.00</td>\n",
       "      <td>62.00</td>\n",
       "      <td>749.00</td>\n",
       "      <td>96.00</td>\n",
       "      <td>8.00</td>\n",
       "      <td>16320040.15</td>\n",
       "      <td>7.00</td>\n",
       "      <td>9.00</td>\n",
       "    </tr>\n",
       "  </tbody>\n",
       "</table>\n",
       "</div>"
      ],
      "text/plain": [
       "        client_id  tenure[y]  tenure[m]       age  accounts      balance  \\\n",
       "count    70595.00   70595.00   70595.00  70594.00  70595.00     70595.00   \n",
       "mean   5005020.95      12.05     150.66     46.44      2.26    147445.24   \n",
       "std    2877269.22       6.87      82.09     15.59      0.53    301508.71   \n",
       "min        169.00       2.00      33.00     13.50      1.00     13789.42   \n",
       "25%    2519604.50       6.00      82.00     32.50      2.00     37346.84   \n",
       "50%    5016969.00      11.00     136.00     47.00      2.00     63332.90   \n",
       "75%    7483063.50      16.00     192.00     59.00      2.00    137544.90   \n",
       "max    9999839.00      62.00     749.00     96.00      8.00  16320040.15   \n",
       "\n",
       "       calls_6mth  logins_6mth  \n",
       "count    70595.00     70595.00  \n",
       "mean         3.38         5.57  \n",
       "std          2.24         2.35  \n",
       "min          0.00         1.00  \n",
       "25%          1.00         4.00  \n",
       "50%          3.00         5.00  \n",
       "75%          6.00         7.00  \n",
       "max          7.00         9.00  "
      ]
     },
     "execution_count": 39,
     "metadata": {},
     "output_type": "execute_result"
    }
   ],
   "source": [
    "df_demo.describe().round(2)  "
   ]
  },
  {
   "cell_type": "code",
   "execution_count": 40,
   "id": "93b830eb-a9bd-403c-ab50-93f1c0dc18cf",
   "metadata": {},
   "outputs": [],
   "source": [
    "#rename columns in demo\n",
    "# reset index???\n",
    "#fill remaining na values?\n",
    "#aggregate the data for the 2 groups\n",
    "#convert age to an integer\n",
    "#graph interesting values e.g.\n",
    "# 1)balance 2) num_accounts 3)calls 4)logons 5) tenures (m) 6) tenure (y) 7)age\n",
    "\n",
    "#understand the clients:\n",
    "#Who are the primary clients using this online process?\n",
    "#Are the primary clients younger or older, new or long-standing?"
   ]
  },
  {
   "cell_type": "code",
   "execution_count": 41,
   "id": "83c0bbf6-3549-4429-9431-1cbeef45c0e9",
   "metadata": {},
   "outputs": [
    {
     "data": {
      "image/png": "[encoded data removed]",
      "text/plain": [
       "<Figure size 640x480 with 1 Axes>"
      ]
     },
     "metadata": {},
     "output_type": "display_data"
    }
   ],
   "source": [
    "sns.boxplot(data = df_demo['tenure[y]'], color=\"lightblue\")\n",
    "plt.show()"
   ]
  },
  {
   "cell_type": "code",
   "execution_count": 42,
   "id": "86c19c25-0b06-40b9-ae64-21852b492582",
   "metadata": {},
   "outputs": [
    {
     "data": {
      "image/png": "[encoded data removed]",
      "text/plain": [
       "<Figure size 640x480 with 1 Axes>"
      ]
     },
     "metadata": {},
     "output_type": "display_data"
    }
   ],
   "source": [
    "sns.boxplot(data = df_demo['tenure[m]'], color=\"lightblue\")\n",
    "plt.show()"
   ]
  },
  {
   "cell_type": "code",
   "execution_count": 43,
   "id": "70ad41af-22ab-4ef8-87bf-97e4ab46ffd0",
   "metadata": {},
   "outputs": [
    {
     "data": {
      "image/png": "[encoded data removed]",
      "text/plain": [
       "<Figure size 640x480 with 1 Axes>"
      ]
     },
     "metadata": {},
     "output_type": "display_data"
    }
   ],
   "source": [
    "sns.boxplot(data = df_demo['age'], color=\"lightblue\")\n",
    "plt.show()"
   ]
  },
  {
   "cell_type": "code",
   "execution_count": 44,
   "id": "939d2f1f-dd57-4e35-b1f1-a63894fdf7fc",
   "metadata": {},
   "outputs": [
    {
     "data": {
      "image/png": "[encoded data removed]",
      "text/plain": [
       "<Figure size 640x480 with 1 Axes>"
      ]
     },
     "metadata": {},
     "output_type": "display_data"
    }
   ],
   "source": [
    "sns.boxplot(data = df_demo['accounts'], color=\"lightblue\")\n",
    "plt.show()"
   ]
  },
  {
   "cell_type": "code",
   "execution_count": 45,
   "id": "61b49e88-117b-48b2-bea0-e11d72730336",
   "metadata": {},
   "outputs": [
    {
     "data": {
      "image/png": "[encoded data removed]",
      "text/plain": [
       "<Figure size 640x480 with 1 Axes>"
      ]
     },
     "metadata": {},
     "output_type": "display_data"
    }
   ],
   "source": [
    "sns.boxplot(data = df_demo['balance'], color=\"lightblue\")\n",
    "plt.show()"
   ]
  },
  {
   "cell_type": "code",
   "execution_count": 46,
   "id": "e6a5868b-f3d2-4e52-b3d3-8ef3bb37b188",
   "metadata": {},
   "outputs": [
    {
     "data": {
      "image/png": "[encoded data removed]",
      "text/plain": [
       "<Figure size 640x480 with 1 Axes>"
      ]
     },
     "metadata": {},
     "output_type": "display_data"
    }
   ],
   "source": [
    "sns.boxplot(data = df_demo['calls_6mth'], color=\"lightblue\")\n",
    "plt.show()"
   ]
  },
  {
   "cell_type": "code",
   "execution_count": 47,
   "id": "96eb650c-4906-4f3d-acd9-39c2e1731b28",
   "metadata": {},
   "outputs": [
    {
     "data": {
      "image/png": "[encoded data removed]",
      "text/plain": [
       "<Figure size 640x480 with 1 Axes>"
      ]
     },
     "metadata": {},
     "output_type": "display_data"
    }
   ],
   "source": [
    "sns.boxplot(data = df_demo['logins_6mth'], color=\"lightblue\")\n",
    "plt.show()"
   ]
  },
  {
   "cell_type": "code",
   "execution_count": 48,
   "id": "41f6967f-db31-4ef2-a8f9-0afadaf63103",
   "metadata": {},
   "outputs": [
    {
     "data": {
      "text/html": [
       "<div>\n",
       "<style scoped>\n",
       "    .dataframe tbody tr th:only-of-type {\n",
       "        vertical-align: middle;\n",
       "    }\n",
       "\n",
       "    .dataframe tbody tr th {\n",
       "        vertical-align: top;\n",
       "    }\n",
       "\n",
       "    .dataframe thead th {\n",
       "        text-align: right;\n",
       "    }\n",
       "</style>\n",
       "<table border=\"1\" class=\"dataframe\">\n",
       "  <thead>\n",
       "    <tr style=\"text-align: right;\">\n",
       "      <th></th>\n",
       "      <th>accounts</th>\n",
       "      <th>calls_6mth</th>\n",
       "      <th>logins_6mth</th>\n",
       "    </tr>\n",
       "  </thead>\n",
       "  <tbody>\n",
       "    <tr>\n",
       "      <th>0</th>\n",
       "      <td>2.0</td>\n",
       "      <td>6.0</td>\n",
       "      <td>9.0</td>\n",
       "    </tr>\n",
       "    <tr>\n",
       "      <th>1</th>\n",
       "      <td>2.0</td>\n",
       "      <td>6.0</td>\n",
       "      <td>9.0</td>\n",
       "    </tr>\n",
       "    <tr>\n",
       "      <th>2</th>\n",
       "      <td>2.0</td>\n",
       "      <td>6.0</td>\n",
       "      <td>9.0</td>\n",
       "    </tr>\n",
       "    <tr>\n",
       "      <th>3</th>\n",
       "      <td>2.0</td>\n",
       "      <td>3.0</td>\n",
       "      <td>6.0</td>\n",
       "    </tr>\n",
       "    <tr>\n",
       "      <th>4</th>\n",
       "      <td>2.0</td>\n",
       "      <td>0.0</td>\n",
       "      <td>3.0</td>\n",
       "    </tr>\n",
       "    <tr>\n",
       "      <th>...</th>\n",
       "      <td>...</td>\n",
       "      <td>...</td>\n",
       "      <td>...</td>\n",
       "    </tr>\n",
       "    <tr>\n",
       "      <th>70604</th>\n",
       "      <td>3.0</td>\n",
       "      <td>5.0</td>\n",
       "      <td>5.0</td>\n",
       "    </tr>\n",
       "    <tr>\n",
       "      <th>70605</th>\n",
       "      <td>2.0</td>\n",
       "      <td>6.0</td>\n",
       "      <td>6.0</td>\n",
       "    </tr>\n",
       "    <tr>\n",
       "      <th>70606</th>\n",
       "      <td>2.0</td>\n",
       "      <td>3.0</td>\n",
       "      <td>3.0</td>\n",
       "    </tr>\n",
       "    <tr>\n",
       "      <th>70607</th>\n",
       "      <td>3.0</td>\n",
       "      <td>4.0</td>\n",
       "      <td>4.0</td>\n",
       "    </tr>\n",
       "    <tr>\n",
       "      <th>70608</th>\n",
       "      <td>3.0</td>\n",
       "      <td>7.0</td>\n",
       "      <td>7.0</td>\n",
       "    </tr>\n",
       "  </tbody>\n",
       "</table>\n",
       "<p>70595 rows × 3 columns</p>\n",
       "</div>"
      ],
      "text/plain": [
       "       accounts  calls_6mth  logins_6mth\n",
       "0           2.0         6.0          9.0\n",
       "1           2.0         6.0          9.0\n",
       "2           2.0         6.0          9.0\n",
       "3           2.0         3.0          6.0\n",
       "4           2.0         0.0          3.0\n",
       "...         ...         ...          ...\n",
       "70604       3.0         5.0          5.0\n",
       "70605       2.0         6.0          6.0\n",
       "70606       2.0         3.0          3.0\n",
       "70607       3.0         4.0          4.0\n",
       "70608       3.0         7.0          7.0\n",
       "\n",
       "[70595 rows x 3 columns]"
      ]
     },
     "execution_count": 48,
     "metadata": {},
     "output_type": "execute_result"
    }
   ],
   "source": [
    "potential_categorical_from_numerical = df_demo.select_dtypes(\"number\").loc[:, df_demo.select_dtypes(\"number\").nunique() < 20]\n",
    "potential_categorical_from_numerical"
   ]
  },
  {
   "cell_type": "code",
   "execution_count": 49,
   "id": "66329ec1-2050-4935-89de-2575bda4499c",
   "metadata": {},
   "outputs": [
    {
     "data": {
      "text/html": [
       "<div>\n",
       "<style scoped>\n",
       "    .dataframe tbody tr th:only-of-type {\n",
       "        vertical-align: middle;\n",
       "    }\n",
       "\n",
       "    .dataframe tbody tr th {\n",
       "        vertical-align: top;\n",
       "    }\n",
       "\n",
       "    .dataframe thead th {\n",
       "        text-align: right;\n",
       "    }\n",
       "</style>\n",
       "<table border=\"1\" class=\"dataframe\">\n",
       "  <thead>\n",
       "    <tr style=\"text-align: right;\">\n",
       "      <th></th>\n",
       "      <th>tenure[y]</th>\n",
       "      <th>tenure[m]</th>\n",
       "      <th>age</th>\n",
       "      <th>gender</th>\n",
       "      <th>accounts</th>\n",
       "      <th>balance</th>\n",
       "      <th>calls_6mth</th>\n",
       "      <th>logins_6mth</th>\n",
       "    </tr>\n",
       "  </thead>\n",
       "  <tbody>\n",
       "    <tr>\n",
       "      <th>0</th>\n",
       "      <td>6.0</td>\n",
       "      <td>73.0</td>\n",
       "      <td>60.5</td>\n",
       "      <td>U</td>\n",
       "      <td>2.0</td>\n",
       "      <td>45105.30</td>\n",
       "      <td>6.0</td>\n",
       "      <td>9.0</td>\n",
       "    </tr>\n",
       "    <tr>\n",
       "      <th>1</th>\n",
       "      <td>7.0</td>\n",
       "      <td>94.0</td>\n",
       "      <td>58.0</td>\n",
       "      <td>U</td>\n",
       "      <td>2.0</td>\n",
       "      <td>110860.30</td>\n",
       "      <td>6.0</td>\n",
       "      <td>9.0</td>\n",
       "    </tr>\n",
       "    <tr>\n",
       "      <th>2</th>\n",
       "      <td>5.0</td>\n",
       "      <td>64.0</td>\n",
       "      <td>32.0</td>\n",
       "      <td>U</td>\n",
       "      <td>2.0</td>\n",
       "      <td>52467.79</td>\n",
       "      <td>6.0</td>\n",
       "      <td>9.0</td>\n",
       "    </tr>\n",
       "    <tr>\n",
       "      <th>3</th>\n",
       "      <td>16.0</td>\n",
       "      <td>198.0</td>\n",
       "      <td>49.0</td>\n",
       "      <td>M</td>\n",
       "      <td>2.0</td>\n",
       "      <td>67454.65</td>\n",
       "      <td>3.0</td>\n",
       "      <td>6.0</td>\n",
       "    </tr>\n",
       "    <tr>\n",
       "      <th>4</th>\n",
       "      <td>12.0</td>\n",
       "      <td>145.0</td>\n",
       "      <td>33.0</td>\n",
       "      <td>F</td>\n",
       "      <td>2.0</td>\n",
       "      <td>103671.75</td>\n",
       "      <td>0.0</td>\n",
       "      <td>3.0</td>\n",
       "    </tr>\n",
       "    <tr>\n",
       "      <th>...</th>\n",
       "      <td>...</td>\n",
       "      <td>...</td>\n",
       "      <td>...</td>\n",
       "      <td>...</td>\n",
       "      <td>...</td>\n",
       "      <td>...</td>\n",
       "      <td>...</td>\n",
       "      <td>...</td>\n",
       "    </tr>\n",
       "    <tr>\n",
       "      <th>70604</th>\n",
       "      <td>4.0</td>\n",
       "      <td>56.0</td>\n",
       "      <td>38.5</td>\n",
       "      <td>U</td>\n",
       "      <td>3.0</td>\n",
       "      <td>1411062.68</td>\n",
       "      <td>5.0</td>\n",
       "      <td>5.0</td>\n",
       "    </tr>\n",
       "    <tr>\n",
       "      <th>70605</th>\n",
       "      <td>12.0</td>\n",
       "      <td>148.0</td>\n",
       "      <td>31.0</td>\n",
       "      <td>M</td>\n",
       "      <td>2.0</td>\n",
       "      <td>101867.07</td>\n",
       "      <td>6.0</td>\n",
       "      <td>6.0</td>\n",
       "    </tr>\n",
       "    <tr>\n",
       "      <th>70606</th>\n",
       "      <td>16.0</td>\n",
       "      <td>198.0</td>\n",
       "      <td>61.5</td>\n",
       "      <td>F</td>\n",
       "      <td>2.0</td>\n",
       "      <td>40745.00</td>\n",
       "      <td>3.0</td>\n",
       "      <td>3.0</td>\n",
       "    </tr>\n",
       "    <tr>\n",
       "      <th>70607</th>\n",
       "      <td>21.0</td>\n",
       "      <td>255.0</td>\n",
       "      <td>68.0</td>\n",
       "      <td>M</td>\n",
       "      <td>3.0</td>\n",
       "      <td>475114.69</td>\n",
       "      <td>4.0</td>\n",
       "      <td>4.0</td>\n",
       "    </tr>\n",
       "    <tr>\n",
       "      <th>70608</th>\n",
       "      <td>21.0</td>\n",
       "      <td>254.0</td>\n",
       "      <td>59.5</td>\n",
       "      <td>F</td>\n",
       "      <td>3.0</td>\n",
       "      <td>157498.73</td>\n",
       "      <td>7.0</td>\n",
       "      <td>7.0</td>\n",
       "    </tr>\n",
       "  </tbody>\n",
       "</table>\n",
       "<p>70595 rows × 8 columns</p>\n",
       "</div>"
      ],
      "text/plain": [
       "       tenure[y]  tenure[m]   age gender  accounts     balance  calls_6mth  \\\n",
       "0            6.0       73.0  60.5      U       2.0    45105.30         6.0   \n",
       "1            7.0       94.0  58.0      U       2.0   110860.30         6.0   \n",
       "2            5.0       64.0  32.0      U       2.0    52467.79         6.0   \n",
       "3           16.0      198.0  49.0      M       2.0    67454.65         3.0   \n",
       "4           12.0      145.0  33.0      F       2.0   103671.75         0.0   \n",
       "...          ...        ...   ...    ...       ...         ...         ...   \n",
       "70604        4.0       56.0  38.5      U       3.0  1411062.68         5.0   \n",
       "70605       12.0      148.0  31.0      M       2.0   101867.07         6.0   \n",
       "70606       16.0      198.0  61.5      F       2.0    40745.00         3.0   \n",
       "70607       21.0      255.0  68.0      M       3.0   475114.69         4.0   \n",
       "70608       21.0      254.0  59.5      F       3.0   157498.73         7.0   \n",
       "\n",
       "       logins_6mth  \n",
       "0              9.0  \n",
       "1              9.0  \n",
       "2              9.0  \n",
       "3              6.0  \n",
       "4              3.0  \n",
       "...            ...  \n",
       "70604          5.0  \n",
       "70605          6.0  \n",
       "70606          3.0  \n",
       "70607          4.0  \n",
       "70608          7.0  \n",
       "\n",
       "[70595 rows x 8 columns]"
      ]
     },
     "execution_count": 49,
     "metadata": {},
     "output_type": "execute_result"
    }
   ],
   "source": [
    "df_c = df_demo.drop('client_id', axis=1)\n",
    "df_c"
   ]
  },
  {
   "cell_type": "code",
   "execution_count": 50,
   "id": "ec67db15-8f55-4fc4-bc35-188b92d866f7",
   "metadata": {},
   "outputs": [],
   "source": [
    "#1 look at age"
   ]
  },
  {
   "cell_type": "code",
   "execution_count": 51,
   "id": "64cdc7f5-1b85-4d5a-82a8-ba074e56f8bd",
   "metadata": {},
   "outputs": [
    {
     "data": {
      "text/plain": [
       "(46.442240133722414, 47.0, 58.5)"
      ]
     },
     "execution_count": 51,
     "metadata": {},
     "output_type": "execute_result"
    }
   ],
   "source": [
    "mean_age = df_demo['age'].mean()\n",
    "median_age = df_demo['age'].median()\n",
    "mode_age = df_demo['age'].mode()[0]\n",
    "\n",
    "mean_age, median_age, mode_age"
   ]
  },
  {
   "cell_type": "code",
   "execution_count": 52,
   "id": "e5da2e55-c670-4f2c-af80-3f8227dce0d2",
   "metadata": {},
   "outputs": [
    {
     "data": {
      "text/plain": [
       "count    70594.00\n",
       "mean        46.44\n",
       "std         15.59\n",
       "min         13.50\n",
       "25%         32.50\n",
       "50%         47.00\n",
       "75%         59.00\n",
       "max         96.00\n",
       "Name: age, dtype: float64"
      ]
     },
     "execution_count": 52,
     "metadata": {},
     "output_type": "execute_result"
    }
   ],
   "source": [
    "df_demo['age'].describe().round(2)"
   ]
  },
  {
   "cell_type": "code",
   "execution_count": 53,
   "id": "6b1eac7a-2b57-446a-8e24-05bb9e54c4f3",
   "metadata": {},
   "outputs": [
    {
     "data": {
      "text/plain": [
       "array([  0.,  10.,  20.,  30.,  40.,  50.,  60.,  70.,  80.,  90., 100.])"
      ]
     },
     "execution_count": 53,
     "metadata": {},
     "output_type": "execute_result"
    }
   ],
   "source": [
    "#Create bins to be able to group publications according to surface area\n",
    "bins = np.arange(0, df_demo['age'].max() + 10, 10)\n",
    "bins"
   ]
  },
  {
   "cell_type": "code",
   "execution_count": 54,
   "id": "5fe77311-b953-49f0-9c66-487a9771f301",
   "metadata": {},
   "outputs": [
    {
     "name": "stdout",
     "output_type": "stream",
     "text": [
      "age_range\n",
      "(0.0, 10.0]          0\n",
      "(10.0, 20.0]      1479\n",
      "(20.0, 30.0]     12545\n",
      "(30.0, 40.0]     12930\n",
      "(40.0, 50.0]     12590\n",
      "(50.0, 60.0]     15549\n",
      "(60.0, 70.0]     11571\n",
      "(70.0, 80.0]      3319\n",
      "(80.0, 90.0]       570\n",
      "(90.0, 100.0]       41\n",
      "Name: count, dtype: int64\n"
     ]
    }
   ],
   "source": [
    "df_demo['age_range'] = pd.cut(df_demo['age'], bins=bins)\n",
    "count_ranges = df_demo['age_range'].value_counts().sort_index()\n",
    "print(count_ranges)"
   ]
  },
  {
   "cell_type": "code",
   "execution_count": 55,
   "id": "d7909082-088c-4d07-9e62-fa22d532ee2c",
   "metadata": {},
   "outputs": [
    {
     "data": {
      "image/png": "[encoded data removed]",
      "text/plain": [
       "<Figure size 1000x600 with 1 Axes>"
      ]
     },
     "metadata": {},
     "output_type": "display_data"
    }
   ],
   "source": [
    "# Define the bins using numpy for easier calculation\n",
    "bins = np.arange(0, df_demo['age'].max() + 20, 20)\n",
    "# Create the histogram\n",
    "plt.figure(figsize=(10, 6))\n",
    "plt.hist(df_demo['age'], bins=bins, color='skyblue', edgecolor='black')\n",
    "plt.title('Age Distribution')\n",
    "plt.xlabel('Age')\n",
    "plt.ylabel('Count')\n",
    "plt.xticks(bins, rotation=45)  # To improve readability of x-axis labels\n",
    "plt.show()"
   ]
  },
  {
   "cell_type": "code",
   "execution_count": 56,
   "id": "19ab6bbf-4564-4527-957c-59aecb60777e",
   "metadata": {},
   "outputs": [
    {
     "data": {
      "text/plain": [
       "(147445.2406414052, 63332.9, 31188.62)"
      ]
     },
     "execution_count": 56,
     "metadata": {},
     "output_type": "execute_result"
    }
   ],
   "source": [
    "# look at balance \n",
    "mean_bal = df_demo['balance'].mean()\n",
    "median_bal = df_demo['balance'].median()\n",
    "mode_bal = df_demo['balance'].mode()[0]\n",
    "\n",
    "mean_bal, median_bal, mode_bal"
   ]
  },
  {
   "cell_type": "code",
   "execution_count": 57,
   "id": "a7122362-16b3-48da-86dc-5c9d7f881223",
   "metadata": {},
   "outputs": [
    {
     "data": {
      "text/plain": [
       "count       70595.00\n",
       "mean       147445.24\n",
       "std        301508.71\n",
       "min         13789.42\n",
       "25%         37346.84\n",
       "50%         63332.90\n",
       "75%        137544.90\n",
       "max      16320040.15\n",
       "Name: balance, dtype: float64"
      ]
     },
     "execution_count": 57,
     "metadata": {},
     "output_type": "execute_result"
    }
   ],
   "source": [
    "df_demo['balance'].describe().round(2)"
   ]
  },
  {
   "cell_type": "code",
   "execution_count": 58,
   "id": "7e97bf19-83fa-41d4-867a-fe81b05b1c96",
   "metadata": {},
   "outputs": [
    {
     "data": {
      "image/png": "[encoded data removed]",
      "text/plain": [
       "<Figure size 640x480 with 1 Axes>"
      ]
     },
     "metadata": {},
     "output_type": "display_data"
    }
   ],
   "source": [
    "sns.histplot(df_demo['balance'], kde=True, bins=10, color=\"salmon\")\n",
    "plt.show()"
   ]
  },
  {
   "cell_type": "code",
   "execution_count": 59,
   "id": "dca2626f-2950-4dc5-a944-6fe5c0882d37",
   "metadata": {},
   "outputs": [
    {
     "name": "stdout",
     "output_type": "stream",
     "text": [
      "-112950.27000000002\n",
      "287842.01\n"
     ]
    },
    {
     "data": {
      "text/plain": [
       "8018"
      ]
     },
     "execution_count": 59,
     "metadata": {},
     "output_type": "execute_result"
    }
   ],
   "source": [
    "values = df_demo['balance'].dropna()\n",
    "\n",
    "# Calculate Q1 (25th percentile) and Q3 (75th percentile)\n",
    "Q1 = values.quantile(0.25)\n",
    "Q3 = values.quantile(0.75)\n",
    "IQR = Q3 - Q1\n",
    "    \n",
    "# Define bounds for the outliers\n",
    "lower_bound = Q1 - 1.5 * IQR\n",
    "upper_bound = Q3 + 1.5 * IQR\n",
    "    \n",
    "# Identify the outliers\n",
    "outliers = values[(values < lower_bound) | (values > upper_bound)]\n",
    "    \n",
    "print(lower_bound)\n",
    "print(upper_bound)\n",
    "len(outliers)"
   ]
  },
  {
   "cell_type": "code",
   "execution_count": 60,
   "id": "a810abae-10f1-47c3-85d9-a99ea5741eec",
   "metadata": {},
   "outputs": [
    {
     "data": {
      "text/html": [
       "<div>\n",
       "<style scoped>\n",
       "    .dataframe tbody tr th:only-of-type {\n",
       "        vertical-align: middle;\n",
       "    }\n",
       "\n",
       "    .dataframe tbody tr th {\n",
       "        vertical-align: top;\n",
       "    }\n",
       "\n",
       "    .dataframe thead th {\n",
       "        text-align: right;\n",
       "    }\n",
       "</style>\n",
       "<table border=\"1\" class=\"dataframe\">\n",
       "  <thead>\n",
       "    <tr style=\"text-align: right;\">\n",
       "      <th></th>\n",
       "      <th>client_id</th>\n",
       "      <th>tenure[y]</th>\n",
       "      <th>tenure[m]</th>\n",
       "      <th>age</th>\n",
       "      <th>gender</th>\n",
       "      <th>accounts</th>\n",
       "      <th>balance</th>\n",
       "      <th>calls_6mth</th>\n",
       "      <th>logins_6mth</th>\n",
       "      <th>age_range</th>\n",
       "    </tr>\n",
       "  </thead>\n",
       "  <tbody>\n",
       "    <tr>\n",
       "      <th>0</th>\n",
       "      <td>836976</td>\n",
       "      <td>6.0</td>\n",
       "      <td>73.0</td>\n",
       "      <td>60.5</td>\n",
       "      <td>U</td>\n",
       "      <td>2.0</td>\n",
       "      <td>45105.30</td>\n",
       "      <td>6.0</td>\n",
       "      <td>9.0</td>\n",
       "      <td>(60.0, 70.0]</td>\n",
       "    </tr>\n",
       "    <tr>\n",
       "      <th>1</th>\n",
       "      <td>2304905</td>\n",
       "      <td>7.0</td>\n",
       "      <td>94.0</td>\n",
       "      <td>58.0</td>\n",
       "      <td>U</td>\n",
       "      <td>2.0</td>\n",
       "      <td>110860.30</td>\n",
       "      <td>6.0</td>\n",
       "      <td>9.0</td>\n",
       "      <td>(50.0, 60.0]</td>\n",
       "    </tr>\n",
       "    <tr>\n",
       "      <th>2</th>\n",
       "      <td>1439522</td>\n",
       "      <td>5.0</td>\n",
       "      <td>64.0</td>\n",
       "      <td>32.0</td>\n",
       "      <td>U</td>\n",
       "      <td>2.0</td>\n",
       "      <td>52467.79</td>\n",
       "      <td>6.0</td>\n",
       "      <td>9.0</td>\n",
       "      <td>(30.0, 40.0]</td>\n",
       "    </tr>\n",
       "    <tr>\n",
       "      <th>3</th>\n",
       "      <td>1562045</td>\n",
       "      <td>16.0</td>\n",
       "      <td>198.0</td>\n",
       "      <td>49.0</td>\n",
       "      <td>M</td>\n",
       "      <td>2.0</td>\n",
       "      <td>67454.65</td>\n",
       "      <td>3.0</td>\n",
       "      <td>6.0</td>\n",
       "      <td>(40.0, 50.0]</td>\n",
       "    </tr>\n",
       "    <tr>\n",
       "      <th>4</th>\n",
       "      <td>5126305</td>\n",
       "      <td>12.0</td>\n",
       "      <td>145.0</td>\n",
       "      <td>33.0</td>\n",
       "      <td>F</td>\n",
       "      <td>2.0</td>\n",
       "      <td>103671.75</td>\n",
       "      <td>0.0</td>\n",
       "      <td>3.0</td>\n",
       "      <td>(30.0, 40.0]</td>\n",
       "    </tr>\n",
       "    <tr>\n",
       "      <th>...</th>\n",
       "      <td>...</td>\n",
       "      <td>...</td>\n",
       "      <td>...</td>\n",
       "      <td>...</td>\n",
       "      <td>...</td>\n",
       "      <td>...</td>\n",
       "      <td>...</td>\n",
       "      <td>...</td>\n",
       "      <td>...</td>\n",
       "      <td>...</td>\n",
       "    </tr>\n",
       "    <tr>\n",
       "      <th>70602</th>\n",
       "      <td>7979279</td>\n",
       "      <td>4.0</td>\n",
       "      <td>49.0</td>\n",
       "      <td>35.0</td>\n",
       "      <td>F</td>\n",
       "      <td>2.0</td>\n",
       "      <td>40441.45</td>\n",
       "      <td>3.0</td>\n",
       "      <td>3.0</td>\n",
       "      <td>(30.0, 40.0]</td>\n",
       "    </tr>\n",
       "    <tr>\n",
       "      <th>70603</th>\n",
       "      <td>2489338</td>\n",
       "      <td>5.0</td>\n",
       "      <td>66.0</td>\n",
       "      <td>17.5</td>\n",
       "      <td>U</td>\n",
       "      <td>2.0</td>\n",
       "      <td>17869.95</td>\n",
       "      <td>4.0</td>\n",
       "      <td>4.0</td>\n",
       "      <td>(10.0, 20.0]</td>\n",
       "    </tr>\n",
       "    <tr>\n",
       "      <th>70605</th>\n",
       "      <td>8981690</td>\n",
       "      <td>12.0</td>\n",
       "      <td>148.0</td>\n",
       "      <td>31.0</td>\n",
       "      <td>M</td>\n",
       "      <td>2.0</td>\n",
       "      <td>101867.07</td>\n",
       "      <td>6.0</td>\n",
       "      <td>6.0</td>\n",
       "      <td>(30.0, 40.0]</td>\n",
       "    </tr>\n",
       "    <tr>\n",
       "      <th>70606</th>\n",
       "      <td>333913</td>\n",
       "      <td>16.0</td>\n",
       "      <td>198.0</td>\n",
       "      <td>61.5</td>\n",
       "      <td>F</td>\n",
       "      <td>2.0</td>\n",
       "      <td>40745.00</td>\n",
       "      <td>3.0</td>\n",
       "      <td>3.0</td>\n",
       "      <td>(60.0, 70.0]</td>\n",
       "    </tr>\n",
       "    <tr>\n",
       "      <th>70608</th>\n",
       "      <td>5602139</td>\n",
       "      <td>21.0</td>\n",
       "      <td>254.0</td>\n",
       "      <td>59.5</td>\n",
       "      <td>F</td>\n",
       "      <td>3.0</td>\n",
       "      <td>157498.73</td>\n",
       "      <td>7.0</td>\n",
       "      <td>7.0</td>\n",
       "      <td>(50.0, 60.0]</td>\n",
       "    </tr>\n",
       "  </tbody>\n",
       "</table>\n",
       "<p>62577 rows × 10 columns</p>\n",
       "</div>"
      ],
      "text/plain": [
       "       client_id  tenure[y]  tenure[m]   age gender  accounts    balance  \\\n",
       "0         836976        6.0       73.0  60.5      U       2.0   45105.30   \n",
       "1        2304905        7.0       94.0  58.0      U       2.0  110860.30   \n",
       "2        1439522        5.0       64.0  32.0      U       2.0   52467.79   \n",
       "3        1562045       16.0      198.0  49.0      M       2.0   67454.65   \n",
       "4        5126305       12.0      145.0  33.0      F       2.0  103671.75   \n",
       "...          ...        ...        ...   ...    ...       ...        ...   \n",
       "70602    7979279        4.0       49.0  35.0      F       2.0   40441.45   \n",
       "70603    2489338        5.0       66.0  17.5      U       2.0   17869.95   \n",
       "70605    8981690       12.0      148.0  31.0      M       2.0  101867.07   \n",
       "70606     333913       16.0      198.0  61.5      F       2.0   40745.00   \n",
       "70608    5602139       21.0      254.0  59.5      F       3.0  157498.73   \n",
       "\n",
       "       calls_6mth  logins_6mth     age_range  \n",
       "0             6.0          9.0  (60.0, 70.0]  \n",
       "1             6.0          9.0  (50.0, 60.0]  \n",
       "2             6.0          9.0  (30.0, 40.0]  \n",
       "3             3.0          6.0  (40.0, 50.0]  \n",
       "4             0.0          3.0  (30.0, 40.0]  \n",
       "...           ...          ...           ...  \n",
       "70602         3.0          3.0  (30.0, 40.0]  \n",
       "70603         4.0          4.0  (10.0, 20.0]  \n",
       "70605         6.0          6.0  (30.0, 40.0]  \n",
       "70606         3.0          3.0  (60.0, 70.0]  \n",
       "70608         7.0          7.0  (50.0, 60.0]  \n",
       "\n",
       "[62577 rows x 10 columns]"
      ]
     },
     "execution_count": 60,
     "metadata": {},
     "output_type": "execute_result"
    }
   ],
   "source": [
    "df_bal2 = df_demo[df_demo['balance'] >= lower_bound]\n",
    "df_bal2 = df_demo[df_demo['balance'] <= upper_bound]\n",
    "df_bal2"
   ]
  },
  {
   "cell_type": "code",
   "execution_count": 61,
   "id": "3aba93f1-d08c-4e39-8dd8-c008386c929e",
   "metadata": {},
   "outputs": [
    {
     "data": {
      "image/png": "[encoded data removed]",
      "text/plain": [
       "<Figure size 640x480 with 1 Axes>"
      ]
     },
     "metadata": {},
     "output_type": "display_data"
    }
   ],
   "source": [
    "sns.histplot(df_bal2['balance'], kde=True, bins=10, color=\"salmon\")\n",
    "plt.xticks(rotation=90)\n",
    "plt.show()"
   ]
  },
  {
   "cell_type": "code",
   "execution_count": 62,
   "id": "6b028481-cd91-4200-af14-1c84024b9283",
   "metadata": {},
   "outputs": [
    {
     "data": {
      "text/plain": [
       "array([0.000e+00, 1.000e+04, 2.000e+04, ..., 1.631e+07, 1.632e+07,\n",
       "       1.633e+07])"
      ]
     },
     "execution_count": 62,
     "metadata": {},
     "output_type": "execute_result"
    }
   ],
   "source": [
    "bins = np.arange(0, df_demo['balance'].max() + 10000, 10000)\n",
    "bins"
   ]
  },
  {
   "cell_type": "code",
   "execution_count": 63,
   "id": "0f27f2b5-f4bd-4fba-952e-e549e4d3e999",
   "metadata": {},
   "outputs": [
    {
     "data": {
      "text/plain": [
       "(2.2555280118988597, 2.0, 2.0)"
      ]
     },
     "execution_count": 63,
     "metadata": {},
     "output_type": "execute_result"
    }
   ],
   "source": [
    "# look at number of accounts\n",
    "mean_accts = df_demo['accounts'].mean()\n",
    "median_accts = df_demo['accounts'].median()\n",
    "mode_accts = df_demo['accounts'].mode()[0]\n",
    "\n",
    "mean_accts, median_accts, mode_accts"
   ]
  },
  {
   "cell_type": "code",
   "execution_count": 64,
   "id": "d7741dcf-185b-4de8-89a9-628ad1d7acbd",
   "metadata": {},
   "outputs": [
    {
     "data": {
      "text/plain": [
       "count    70595.00\n",
       "mean         2.26\n",
       "std          0.53\n",
       "min          1.00\n",
       "25%          2.00\n",
       "50%          2.00\n",
       "75%          2.00\n",
       "max          8.00\n",
       "Name: accounts, dtype: float64"
      ]
     },
     "execution_count": 64,
     "metadata": {},
     "output_type": "execute_result"
    }
   ],
   "source": [
    "df_demo['accounts'].describe().round(2)"
   ]
  },
  {
   "cell_type": "code",
   "execution_count": 65,
   "id": "b41e8d1f-4fcb-4ab6-a444-dce9bd2cdd88",
   "metadata": {},
   "outputs": [
    {
     "data": {
      "image/png": "[encoded data removed]",
      "text/plain": [
       "<Figure size 640x480 with 1 Axes>"
      ]
     },
     "metadata": {},
     "output_type": "display_data"
    }
   ],
   "source": [
    "sns.histplot(df_bal2['accounts'], kde=True, bins=10, color=\"salmon\")\n",
    "plt.xticks(rotation=90)\n",
    "plt.show()"
   ]
  },
  {
   "cell_type": "code",
   "execution_count": 66,
   "id": "2788deca-2352-4dae-aeb4-7cd455e2d1d1",
   "metadata": {},
   "outputs": [
    {
     "data": {
      "text/plain": [
       "accounts\n",
       "2.0    55497\n",
       "3.0    12529\n",
       "4.0     2241\n",
       "5.0      284\n",
       "6.0       33\n",
       "7.0        8\n",
       "1.0        2\n",
       "8.0        1\n",
       "Name: count, dtype: int64"
      ]
     },
     "execution_count": 66,
     "metadata": {},
     "output_type": "execute_result"
    }
   ],
   "source": [
    "df_demo['accounts'].value_counts()"
   ]
  },
  {
   "cell_type": "code",
   "execution_count": 67,
   "id": "e8fbcd6d-6480-4e57-b5a3-04892697c0d1",
   "metadata": {},
   "outputs": [
    {
     "data": {
      "text/plain": [
       "(12.052949925632127, 11.0, 6.0)"
      ]
     },
     "execution_count": 67,
     "metadata": {},
     "output_type": "execute_result"
    }
   ],
   "source": [
    "# look at tenure (years)\n",
    "mean_year = df_demo['tenure[y]'].mean()\n",
    "median_year = df_demo['tenure[y]'].median()\n",
    "mode_year = df_demo['tenure[y]'].mode()[0]\n",
    "\n",
    "mean_year, median_year, mode_year"
   ]
  },
  {
   "cell_type": "code",
   "execution_count": 68,
   "id": "1553c84a-6e95-4965-9e7c-3484055ffca5",
   "metadata": {},
   "outputs": [
    {
     "data": {
      "text/plain": [
       "process_step\n",
       "start      234999\n",
       "step_1     162797\n",
       "step_2     132750\n",
       "step_3     111589\n",
       "confirm    102506\n",
       "Name: count, dtype: int64"
      ]
     },
     "execution_count": 68,
     "metadata": {},
     "output_type": "execute_result"
    }
   ],
   "source": [
    "df_web['process_step'].value_counts()"
   ]
  },
  {
   "cell_type": "code",
   "execution_count": 69,
   "id": "66ab7c39-d453-493f-80f8-834c447f5195",
   "metadata": {},
   "outputs": [
    {
     "data": {
      "text/plain": [
       "tenure[y]\n",
       "6.0     7092\n",
       "5.0     6955\n",
       "7.0     4955\n",
       "4.0     4687\n",
       "15.0    4564\n",
       "8.0     4045\n",
       "14.0    3646\n",
       "12.0    3631\n",
       "13.0    3607\n",
       "9.0     3357\n",
       "11.0    2920\n",
       "10.0    2775\n",
       "16.0    2714\n",
       "21.0    2257\n",
       "20.0    1580\n",
       "22.0    1492\n",
       "17.0    1373\n",
       "23.0    1279\n",
       "18.0    1206\n",
       "19.0    1153\n",
       "24.0     846\n",
       "26.0     660\n",
       "27.0     632\n",
       "28.0     507\n",
       "25.0     484\n",
       "3.0      449\n",
       "29.0     309\n",
       "30.0     303\n",
       "33.0     206\n",
       "32.0     191\n",
       "34.0     175\n",
       "31.0     166\n",
       "35.0     102\n",
       "2.0       81\n",
       "36.0      36\n",
       "37.0      35\n",
       "38.0      33\n",
       "48.0      16\n",
       "39.0       9\n",
       "40.0       9\n",
       "55.0       9\n",
       "50.0       8\n",
       "47.0       6\n",
       "43.0       6\n",
       "42.0       6\n",
       "46.0       5\n",
       "51.0       5\n",
       "49.0       4\n",
       "44.0       3\n",
       "52.0       2\n",
       "54.0       1\n",
       "41.0       1\n",
       "45.0       1\n",
       "62.0       1\n",
       "Name: count, dtype: int64"
      ]
     },
     "execution_count": 69,
     "metadata": {},
     "output_type": "execute_result"
    }
   ],
   "source": [
    "df_demo['tenure[y]'].value_counts()"
   ]
  },
  {
   "cell_type": "code",
   "execution_count": 70,
   "id": "f1c4172d-8790-448f-880d-6f5187b8f619",
   "metadata": {},
   "outputs": [
    {
     "data": {
      "text/plain": [
       "count    70595.00\n",
       "mean        12.05\n",
       "std          6.87\n",
       "min          2.00\n",
       "25%          6.00\n",
       "50%         11.00\n",
       "75%         16.00\n",
       "max         62.00\n",
       "Name: tenure[y], dtype: float64"
      ]
     },
     "execution_count": 70,
     "metadata": {},
     "output_type": "execute_result"
    }
   ],
   "source": [
    "df_demo['tenure[y]'].describe().round(2)"
   ]
  },
  {
   "cell_type": "code",
   "execution_count": 71,
   "id": "0ab5cce1-89c0-41ca-ba2f-c19106e10b3c",
   "metadata": {},
   "outputs": [
    {
     "data": {
      "image/png": "[encoded data removed]",
      "text/plain": [
       "<Figure size 640x480 with 1 Axes>"
      ]
     },
     "metadata": {},
     "output_type": "display_data"
    }
   ],
   "source": [
    "sns.histplot(df_bal2['tenure[y]'], kde=True, bins=6, color=\"salmon\")\n",
    "plt.xticks(rotation=90)\n",
    "plt.show()"
   ]
  },
  {
   "cell_type": "code",
   "execution_count": 72,
   "id": "25c21c02-4748-4c27-a2a3-4d5d31c43d4a",
   "metadata": {},
   "outputs": [],
   "source": [
    "# look at tenure (months)"
   ]
  },
  {
   "cell_type": "code",
   "execution_count": 73,
   "id": "731b3747-73dc-4c9f-b53a-1f15b99379fd",
   "metadata": {},
   "outputs": [
    {
     "data": {
      "text/plain": [
       "(150.65936681068064, 136.0, 58.0)"
      ]
     },
     "execution_count": 73,
     "metadata": {},
     "output_type": "execute_result"
    }
   ],
   "source": [
    "mean_price = df_demo['tenure[m]'].mean()\n",
    "median_price = df_demo['tenure[m]'].median()\n",
    "mode_price = df_demo['tenure[m]'].mode()[0]\n",
    "\n",
    "mean_price, median_price, mode_price"
   ]
  },
  {
   "cell_type": "code",
   "execution_count": 74,
   "id": "ff028507-af81-45aa-9055-3c058359bef7",
   "metadata": {},
   "outputs": [
    {
     "data": {
      "text/plain": [
       "count    70595.00\n",
       "mean       150.66\n",
       "std         82.09\n",
       "min         33.00\n",
       "25%         82.00\n",
       "50%        136.00\n",
       "75%        192.00\n",
       "max        749.00\n",
       "Name: tenure[m], dtype: float64"
      ]
     },
     "execution_count": 74,
     "metadata": {},
     "output_type": "execute_result"
    }
   ],
   "source": [
    "df_demo['tenure[m]'].describe().round(2)"
   ]
  },
  {
   "cell_type": "code",
   "execution_count": 75,
   "id": "928a61bb-232b-4a64-8dec-421891f94039",
   "metadata": {},
   "outputs": [
    {
     "name": "stdout",
     "output_type": "stream",
     "text": [
      "[ 33.  39.  45.  51.  57.  63.  69.  75.  81.  87.  93.  99. 105. 111.\n",
      " 117. 123. 129. 135. 141. 147. 153. 159. 165. 171. 177. 183. 189. 195.\n",
      " 201. 207. 213. 219. 225. 231. 237. 243. 249. 255. 261. 267. 273. 279.\n",
      " 285. 291. 297. 303. 309. 315. 321. 327. 333. 339. 345. 351. 357. 363.\n",
      " 369. 375. 381. 387. 393. 399. 405. 411. 417. 423. 429. 435. 441. 447.\n",
      " 453. 459. 465. 471. 477. 483. 489. 495. 501. 507. 513. 519. 525. 531.\n",
      " 537. 543. 549. 555. 561. 567. 573. 579. 585. 591. 597. 603. 609. 615.\n",
      " 621. 627. 633. 639. 645. 651. 657. 663. 669. 675. 681. 687. 693. 699.\n",
      " 705. 711. 717. 723. 729. 735. 741. 747. 753.]\n"
     ]
    }
   ],
   "source": [
    "import numpy as np\n",
    "\n",
    "# Get the minimum and maximum values of the 'clnt_tenure_mnth' column\n",
    "min_value = df_demo['tenure[m]'].min()\n",
    "max_value = df_demo['tenure[m]'].max()\n",
    "\n",
    "# Create bins starting from the minimum value, with a step of 6 (you can adjust the step size)\n",
    "bins_month = np.arange(min_value, max_value + 6, 6)\n",
    "\n",
    "print(bins_month)\n"
   ]
  },
  {
   "cell_type": "code",
   "execution_count": 76,
   "id": "22b4fc5e-159c-43cd-84d0-e417992b6928",
   "metadata": {
    "scrolled": true
   },
   "outputs": [
    {
     "name": "stdout",
     "output_type": "stream",
     "text": [
      "-83.0\n",
      "357.0\n"
     ]
    }
   ],
   "source": [
    "values = df_demo['tenure[m]'].dropna()\n",
    "\n",
    "# Calculate Q1 (25th percentile) and Q3 (75th percentile)\n",
    "Q1 = values.quantile(0.25)\n",
    "Q3 = values.quantile(0.75)\n",
    "IQR = Q3 - Q1\n",
    "    \n",
    "# Define bounds for the outliers\n",
    "lower_bound = Q1 - 1.5 * IQR\n",
    "upper_bound = Q3 + 1.5 * IQR\n",
    "    \n",
    "# Identify the outliers\n",
    "outliers = values[(values < lower_bound) | (values > upper_bound)]\n",
    "    \n",
    "print(lower_bound)\n",
    "print(upper_bound)"
   ]
  },
  {
   "cell_type": "code",
   "execution_count": 77,
   "id": "9aed032c-cc3f-468e-acdb-5f8aa423cca0",
   "metadata": {},
   "outputs": [
    {
     "data": {
      "image/png": "[encoded data removed]",
      "text/plain": [
       "<Figure size 640x480 with 1 Axes>"
      ]
     },
     "metadata": {},
     "output_type": "display_data"
    }
   ],
   "source": [
    "\n",
    "\n",
    "# Calculate the minimum and maximum values of the 'clnt_tenure_yr' column\n",
    "min_value = df_bal2['tenure[y]'].min()\n",
    "max_value = df_bal2['tenure[y]'].max()\n",
    "\n",
    "# Create the histogram with specified bin range\n",
    "sns.histplot(df_bal2['tenure[y]'], kde=True, bins=10, color=\"salmon\", binrange=(min_value, max_value))\n",
    "\n",
    "# Rotate x-axis labels if needed\n",
    "plt.xticks(rotation=90)\n",
    "\n",
    "# Show the plot\n",
    "plt.show()\n"
   ]
  },
  {
   "cell_type": "code",
   "execution_count": 78,
   "id": "4a80b350-a0f4-48c5-b7ba-e815e2dea867",
   "metadata": {},
   "outputs": [
    {
     "name": "stderr",
     "output_type": "stream",
     "text": [
      "/var/folders/cr/41xbbwl92z1_z8mm61y7_jm80000gn/T/ipykernel_3219/1188743934.py:10: SettingWithCopyWarning: \n",
      "A value is trying to be set on a copy of a slice from a DataFrame.\n",
      "Try using .loc[row_indexer,col_indexer] = value instead\n",
      "\n",
      "See the caveats in the documentation: https://pandas.pydata.org/pandas-docs/stable/user_guide/indexing.html#returning-a-view-versus-a-copy\n",
      "  df_bal2['tenure_category'] = pd.cut(df_bal2['tenure[y]'], bins=bins, labels=labels, right=True)\n"
     ]
    },
    {
     "data": {
      "image/png": "[encoded data removed]",
      "text/plain": [
       "<Figure size 640x480 with 1 Axes>"
      ]
     },
     "metadata": {},
     "output_type": "display_data"
    }
   ],
   "source": [
    "import pandas as pd\n",
    "import seaborn as sns\n",
    "import matplotlib.pyplot as plt\n",
    "\n",
    "# Define custom bin edges\n",
    "bins = [0, 5, 10, 15, float('inf')]  # 0-5, 6-10, 11-15, 16+\n",
    "labels = ['0-5', '6-10', '11-15', '16+']\n",
    "\n",
    "# Create a new column for tenure categories\n",
    "df_bal2['tenure_category'] = pd.cut(df_bal2['tenure[y]'], bins=bins, labels=labels, right=True)\n",
    "\n",
    "# Plot the histogram with these custom categories\n",
    "sns.histplot(df_bal2['tenure_category'], discrete=True, color=\"salmon\")\n",
    "\n",
    "# Rotate x-axis labels if needed\n",
    "plt.xticks(rotation=90)\n",
    "\n",
    "# Show the plot\n",
    "plt.show()"
   ]
  },
  {
   "cell_type": "code",
   "execution_count": 79,
   "id": "8398eb72-2ec3-4d83-8724-14b17f20f6d4",
   "metadata": {},
   "outputs": [],
   "source": [
    "# look at gender"
   ]
  },
  {
   "cell_type": "code",
   "execution_count": 80,
   "id": "02e2275b-79c6-4d5b-9124-0552f06af97c",
   "metadata": {},
   "outputs": [
    {
     "data": {
      "text/plain": [
       "gender\n",
       "U    24122\n",
       "M    23724\n",
       "F    22746\n",
       "X        3\n",
       "Name: count, dtype: int64"
      ]
     },
     "execution_count": 80,
     "metadata": {},
     "output_type": "execute_result"
    }
   ],
   "source": [
    "df_demo['gender'].value_counts()"
   ]
  },
  {
   "cell_type": "code",
   "execution_count": 81,
   "id": "548b791c-4de8-4906-9dc2-935206a1fc3a",
   "metadata": {},
   "outputs": [
    {
     "name": "stderr",
     "output_type": "stream",
     "text": [
      "/var/folders/cr/41xbbwl92z1_z8mm61y7_jm80000gn/T/ipykernel_3219/4135361192.py:2: FutureWarning: \n",
      "\n",
      "Passing `palette` without assigning `hue` is deprecated and will be removed in v0.14.0. Assign the `x` variable to `hue` and set `legend=False` for the same effect.\n",
      "\n",
      "  sns.countplot(x='gender', data=df_demo, palette='Set2')\n"
     ]
    },
    {
     "data": {
      "image/png": "[encoded data removed]",
      "text/plain": [
       "<Figure size 640x480 with 1 Axes>"
      ]
     },
     "metadata": {},
     "output_type": "display_data"
    }
   ],
   "source": [
    "# Create a bar plot\n",
    "sns.countplot(x='gender', data=df_demo, palette='Set2')\n",
    "\n",
    "plt.xticks(rotation=90)  # Rotate x-axis labels if they are long\n",
    "plt.show()\n"
   ]
  },
  {
   "cell_type": "code",
   "execution_count": 82,
   "id": "a59ec074-ec95-489c-ae41-8e35e057a160",
   "metadata": {},
   "outputs": [],
   "source": [
    "# Reclassify 'X' in the 'gender' column to 'unknown'\n",
    "df_demo['gender'] = df_demo['gender'].replace('X', 'U')\n"
   ]
  },
  {
   "cell_type": "code",
   "execution_count": 83,
   "id": "5d48d41d-6327-4e7e-a34e-7be044bf6813",
   "metadata": {},
   "outputs": [
    {
     "name": "stderr",
     "output_type": "stream",
     "text": [
      "/var/folders/cr/41xbbwl92z1_z8mm61y7_jm80000gn/T/ipykernel_3219/493940668.py:2: FutureWarning: \n",
      "\n",
      "Passing `palette` without assigning `hue` is deprecated and will be removed in v0.14.0. Assign the `x` variable to `hue` and set `legend=False` for the same effect.\n",
      "\n",
      "  sns.countplot(x='gender', data=df_demo, palette='Set2')\n"
     ]
    },
    {
     "data": {
      "image/png": "[encoded data removed]",
      "text/plain": [
       "<Figure size 640x480 with 1 Axes>"
      ]
     },
     "metadata": {},
     "output_type": "display_data"
    }
   ],
   "source": [
    "# Create a bar plot\n",
    "sns.countplot(x='gender', data=df_demo, palette='Set2')\n",
    "\n",
    "plt.xticks(rotation=90)  # Rotate x-axis labels if they are long\n",
    "plt.show()"
   ]
  },
  {
   "cell_type": "code",
   "execution_count": 84,
   "id": "2ca3111e-8461-4268-818f-dc1d55ce834c",
   "metadata": {},
   "outputs": [
    {
     "data": {
      "text/html": [
       "<div>\n",
       "<style scoped>\n",
       "    .dataframe tbody tr th:only-of-type {\n",
       "        vertical-align: middle;\n",
       "    }\n",
       "\n",
       "    .dataframe tbody tr th {\n",
       "        vertical-align: top;\n",
       "    }\n",
       "\n",
       "    .dataframe thead th {\n",
       "        text-align: right;\n",
       "    }\n",
       "</style>\n",
       "<table border=\"1\" class=\"dataframe\">\n",
       "  <thead>\n",
       "    <tr style=\"text-align: right;\">\n",
       "      <th></th>\n",
       "      <th>tenure[y]</th>\n",
       "      <th>tenure[m]</th>\n",
       "      <th>age</th>\n",
       "      <th>accounts</th>\n",
       "      <th>balance</th>\n",
       "      <th>calls_6mth</th>\n",
       "      <th>logins_6mth</th>\n",
       "    </tr>\n",
       "  </thead>\n",
       "  <tbody>\n",
       "    <tr>\n",
       "      <th>0</th>\n",
       "      <td>6.0</td>\n",
       "      <td>73.0</td>\n",
       "      <td>60.5</td>\n",
       "      <td>2.0</td>\n",
       "      <td>45105.30</td>\n",
       "      <td>6.0</td>\n",
       "      <td>9.0</td>\n",
       "    </tr>\n",
       "    <tr>\n",
       "      <th>1</th>\n",
       "      <td>7.0</td>\n",
       "      <td>94.0</td>\n",
       "      <td>58.0</td>\n",
       "      <td>2.0</td>\n",
       "      <td>110860.30</td>\n",
       "      <td>6.0</td>\n",
       "      <td>9.0</td>\n",
       "    </tr>\n",
       "    <tr>\n",
       "      <th>2</th>\n",
       "      <td>5.0</td>\n",
       "      <td>64.0</td>\n",
       "      <td>32.0</td>\n",
       "      <td>2.0</td>\n",
       "      <td>52467.79</td>\n",
       "      <td>6.0</td>\n",
       "      <td>9.0</td>\n",
       "    </tr>\n",
       "    <tr>\n",
       "      <th>3</th>\n",
       "      <td>16.0</td>\n",
       "      <td>198.0</td>\n",
       "      <td>49.0</td>\n",
       "      <td>2.0</td>\n",
       "      <td>67454.65</td>\n",
       "      <td>3.0</td>\n",
       "      <td>6.0</td>\n",
       "    </tr>\n",
       "    <tr>\n",
       "      <th>4</th>\n",
       "      <td>12.0</td>\n",
       "      <td>145.0</td>\n",
       "      <td>33.0</td>\n",
       "      <td>2.0</td>\n",
       "      <td>103671.75</td>\n",
       "      <td>0.0</td>\n",
       "      <td>3.0</td>\n",
       "    </tr>\n",
       "    <tr>\n",
       "      <th>...</th>\n",
       "      <td>...</td>\n",
       "      <td>...</td>\n",
       "      <td>...</td>\n",
       "      <td>...</td>\n",
       "      <td>...</td>\n",
       "      <td>...</td>\n",
       "      <td>...</td>\n",
       "    </tr>\n",
       "    <tr>\n",
       "      <th>70604</th>\n",
       "      <td>4.0</td>\n",
       "      <td>56.0</td>\n",
       "      <td>38.5</td>\n",
       "      <td>3.0</td>\n",
       "      <td>1411062.68</td>\n",
       "      <td>5.0</td>\n",
       "      <td>5.0</td>\n",
       "    </tr>\n",
       "    <tr>\n",
       "      <th>70605</th>\n",
       "      <td>12.0</td>\n",
       "      <td>148.0</td>\n",
       "      <td>31.0</td>\n",
       "      <td>2.0</td>\n",
       "      <td>101867.07</td>\n",
       "      <td>6.0</td>\n",
       "      <td>6.0</td>\n",
       "    </tr>\n",
       "    <tr>\n",
       "      <th>70606</th>\n",
       "      <td>16.0</td>\n",
       "      <td>198.0</td>\n",
       "      <td>61.5</td>\n",
       "      <td>2.0</td>\n",
       "      <td>40745.00</td>\n",
       "      <td>3.0</td>\n",
       "      <td>3.0</td>\n",
       "    </tr>\n",
       "    <tr>\n",
       "      <th>70607</th>\n",
       "      <td>21.0</td>\n",
       "      <td>255.0</td>\n",
       "      <td>68.0</td>\n",
       "      <td>3.0</td>\n",
       "      <td>475114.69</td>\n",
       "      <td>4.0</td>\n",
       "      <td>4.0</td>\n",
       "    </tr>\n",
       "    <tr>\n",
       "      <th>70608</th>\n",
       "      <td>21.0</td>\n",
       "      <td>254.0</td>\n",
       "      <td>59.5</td>\n",
       "      <td>3.0</td>\n",
       "      <td>157498.73</td>\n",
       "      <td>7.0</td>\n",
       "      <td>7.0</td>\n",
       "    </tr>\n",
       "  </tbody>\n",
       "</table>\n",
       "<p>70595 rows × 7 columns</p>\n",
       "</div>"
      ],
      "text/plain": [
       "       tenure[y]  tenure[m]   age  accounts     balance  calls_6mth  \\\n",
       "0            6.0       73.0  60.5       2.0    45105.30         6.0   \n",
       "1            7.0       94.0  58.0       2.0   110860.30         6.0   \n",
       "2            5.0       64.0  32.0       2.0    52467.79         6.0   \n",
       "3           16.0      198.0  49.0       2.0    67454.65         3.0   \n",
       "4           12.0      145.0  33.0       2.0   103671.75         0.0   \n",
       "...          ...        ...   ...       ...         ...         ...   \n",
       "70604        4.0       56.0  38.5       3.0  1411062.68         5.0   \n",
       "70605       12.0      148.0  31.0       2.0   101867.07         6.0   \n",
       "70606       16.0      198.0  61.5       2.0    40745.00         3.0   \n",
       "70607       21.0      255.0  68.0       3.0   475114.69         4.0   \n",
       "70608       21.0      254.0  59.5       3.0   157498.73         7.0   \n",
       "\n",
       "       logins_6mth  \n",
       "0              9.0  \n",
       "1              9.0  \n",
       "2              9.0  \n",
       "3              6.0  \n",
       "4              3.0  \n",
       "...            ...  \n",
       "70604          5.0  \n",
       "70605          6.0  \n",
       "70606          3.0  \n",
       "70607          4.0  \n",
       "70608          7.0  \n",
       "\n",
       "[70595 rows x 7 columns]"
      ]
     },
     "execution_count": 84,
     "metadata": {},
     "output_type": "execute_result"
    }
   ],
   "source": [
    "df_numerical = df_c.select_dtypes(\"number\")\n",
    "df_numerical"
   ]
  },
  {
   "cell_type": "markdown",
   "id": "8f3d48ec-88d3-4940-b65c-1a104b1c1d05",
   "metadata": {},
   "source": [
    "#Age Buckets \n",
    "0-14 years: Childhood & Adolescence\n",
    "15-29 years: Young Adults\n",
    "30-44 years: Early to Mid Adulthood\n",
    "45-64 years: Midlife\n",
    "65+ years: Older Adulthood"
   ]
  },
  {
   "cell_type": "code",
   "execution_count": 85,
   "id": "8186d359-7cf2-404d-b68d-998e94a7a4af",
   "metadata": {},
   "outputs": [
    {
     "data": {
      "text/plain": [
       "0   2017-04-17 15:27:07\n",
       "1   2017-04-17 15:26:51\n",
       "2   2017-04-17 15:19:22\n",
       "3   2017-04-17 15:19:13\n",
       "4   2017-04-17 15:18:04\n",
       "Name: date_time, dtype: datetime64[ns]"
      ]
     },
     "execution_count": 85,
     "metadata": {},
     "output_type": "execute_result"
    }
   ],
   "source": [
    "# Convert date_time to datetime format\n",
    "df_web[\"date_time\"] = pd.to_datetime(df_web[\"date_time\"])\n",
    "df_web[\"date_time\"].head(5)"
   ]
  },
  {
   "cell_type": "code",
   "execution_count": 86,
   "id": "8350cfe3-7f4e-410a-bcb3-37e8458c7df4",
   "metadata": {},
   "outputs": [
    {
     "data": {
      "text/plain": [
       "dtype('<M8[ns]')"
      ]
     },
     "execution_count": 86,
     "metadata": {},
     "output_type": "execute_result"
    }
   ],
   "source": [
    "df_web[\"date_time\"].dtypes"
   ]
  },
  {
   "cell_type": "code",
   "execution_count": 87,
   "id": "3a4bde52-e05a-46fc-a616-c704e6a87431",
   "metadata": {},
   "outputs": [],
   "source": [
    "# Assign numerical values to steps for comparison\n",
    "step_order = {\n",
    "    \"start\": 0,\n",
    "    \"step_1\": 1,\n",
    "    \"step_2\": 2,\n",
    "    \"step_3\": 3,\n",
    "    \"confirm\": 4\n",
    "}\n"
   ]
  },
  {
   "cell_type": "code",
   "execution_count": 88,
   "id": "aefa7499-9ec2-43d2-9159-7b0561a0e124",
   "metadata": {},
   "outputs": [
    {
     "data": {
      "text/html": [
       "<div>\n",
       "<style scoped>\n",
       "    .dataframe tbody tr th:only-of-type {\n",
       "        vertical-align: middle;\n",
       "    }\n",
       "\n",
       "    .dataframe tbody tr th {\n",
       "        vertical-align: top;\n",
       "    }\n",
       "\n",
       "    .dataframe thead th {\n",
       "        text-align: right;\n",
       "    }\n",
       "</style>\n",
       "<table border=\"1\" class=\"dataframe\">\n",
       "  <thead>\n",
       "    <tr style=\"text-align: right;\">\n",
       "      <th></th>\n",
       "      <th>client_id</th>\n",
       "      <th>visitor_id</th>\n",
       "      <th>visit_id</th>\n",
       "      <th>process_step</th>\n",
       "      <th>date_time</th>\n",
       "    </tr>\n",
       "  </thead>\n",
       "  <tbody>\n",
       "    <tr>\n",
       "      <th>101148</th>\n",
       "      <td>5867343</td>\n",
       "      <td>100011869_84756704576</td>\n",
       "      <td>406596333_52561114200_989487</td>\n",
       "      <td>start</td>\n",
       "      <td>2017-06-05 02:47:42</td>\n",
       "    </tr>\n",
       "    <tr>\n",
       "      <th>101147</th>\n",
       "      <td>5867343</td>\n",
       "      <td>100011869_84756704576</td>\n",
       "      <td>406596333_52561114200_989487</td>\n",
       "      <td>step_1</td>\n",
       "      <td>2017-06-05 02:47:47</td>\n",
       "    </tr>\n",
       "    <tr>\n",
       "      <th>101146</th>\n",
       "      <td>5867343</td>\n",
       "      <td>100011869_84756704576</td>\n",
       "      <td>406596333_52561114200_989487</td>\n",
       "      <td>step_2</td>\n",
       "      <td>2017-06-05 02:48:03</td>\n",
       "    </tr>\n",
       "    <tr>\n",
       "      <th>101145</th>\n",
       "      <td>5867343</td>\n",
       "      <td>100011869_84756704576</td>\n",
       "      <td>406596333_52561114200_989487</td>\n",
       "      <td>step_3</td>\n",
       "      <td>2017-06-05 02:50:18</td>\n",
       "    </tr>\n",
       "    <tr>\n",
       "      <th>101144</th>\n",
       "      <td>5867343</td>\n",
       "      <td>100011869_84756704576</td>\n",
       "      <td>406596333_52561114200_989487</td>\n",
       "      <td>start</td>\n",
       "      <td>2017-06-05 02:51:11</td>\n",
       "    </tr>\n",
       "    <tr>\n",
       "      <th>101048</th>\n",
       "      <td>6265388</td>\n",
       "      <td>100019786_4272121951</td>\n",
       "      <td>703380671_89376183829_330646</td>\n",
       "      <td>start</td>\n",
       "      <td>2017-04-15 15:13:33</td>\n",
       "    </tr>\n",
       "    <tr>\n",
       "      <th>101047</th>\n",
       "      <td>6265388</td>\n",
       "      <td>100019786_4272121951</td>\n",
       "      <td>703380671_89376183829_330646</td>\n",
       "      <td>step_1</td>\n",
       "      <td>2017-04-15 15:13:46</td>\n",
       "    </tr>\n",
       "    <tr>\n",
       "      <th>101046</th>\n",
       "      <td>6265388</td>\n",
       "      <td>100019786_4272121951</td>\n",
       "      <td>703380671_89376183829_330646</td>\n",
       "      <td>step_2</td>\n",
       "      <td>2017-04-15 15:14:21</td>\n",
       "    </tr>\n",
       "    <tr>\n",
       "      <th>101045</th>\n",
       "      <td>6265388</td>\n",
       "      <td>100019786_4272121951</td>\n",
       "      <td>703380671_89376183829_330646</td>\n",
       "      <td>step_3</td>\n",
       "      <td>2017-04-15 15:15:50</td>\n",
       "    </tr>\n",
       "    <tr>\n",
       "      <th>101044</th>\n",
       "      <td>6265388</td>\n",
       "      <td>100019786_4272121951</td>\n",
       "      <td>703380671_89376183829_330646</td>\n",
       "      <td>confirm</td>\n",
       "      <td>2017-04-15 15:16:18</td>\n",
       "    </tr>\n",
       "  </tbody>\n",
       "</table>\n",
       "</div>"
      ],
      "text/plain": [
       "        client_id             visitor_id                      visit_id  \\\n",
       "101148    5867343  100011869_84756704576  406596333_52561114200_989487   \n",
       "101147    5867343  100011869_84756704576  406596333_52561114200_989487   \n",
       "101146    5867343  100011869_84756704576  406596333_52561114200_989487   \n",
       "101145    5867343  100011869_84756704576  406596333_52561114200_989487   \n",
       "101144    5867343  100011869_84756704576  406596333_52561114200_989487   \n",
       "101048    6265388   100019786_4272121951  703380671_89376183829_330646   \n",
       "101047    6265388   100019786_4272121951  703380671_89376183829_330646   \n",
       "101046    6265388   100019786_4272121951  703380671_89376183829_330646   \n",
       "101045    6265388   100019786_4272121951  703380671_89376183829_330646   \n",
       "101044    6265388   100019786_4272121951  703380671_89376183829_330646   \n",
       "\n",
       "       process_step           date_time  \n",
       "101148        start 2017-06-05 02:47:42  \n",
       "101147       step_1 2017-06-05 02:47:47  \n",
       "101146       step_2 2017-06-05 02:48:03  \n",
       "101145       step_3 2017-06-05 02:50:18  \n",
       "101144        start 2017-06-05 02:51:11  \n",
       "101048        start 2017-04-15 15:13:33  \n",
       "101047       step_1 2017-04-15 15:13:46  \n",
       "101046       step_2 2017-04-15 15:14:21  \n",
       "101045       step_3 2017-04-15 15:15:50  \n",
       "101044      confirm 2017-04-15 15:16:18  "
      ]
     },
     "execution_count": 88,
     "metadata": {},
     "output_type": "execute_result"
    }
   ],
   "source": [
    "# Sort data by visitor_id and timestamp to ensure proper step sequence\n",
    "df_web = df_web.sort_values(by=[\"visitor_id\", \"date_time\"])\n",
    "df_web.head(10)"
   ]
  },
  {
   "cell_type": "code",
   "execution_count": 89,
   "id": "d6f6da2d-c5d3-4726-b79f-e9dad32c268e",
   "metadata": {},
   "outputs": [
    {
     "data": {
      "text/html": [
       "<div>\n",
       "<style scoped>\n",
       "    .dataframe tbody tr th:only-of-type {\n",
       "        vertical-align: middle;\n",
       "    }\n",
       "\n",
       "    .dataframe tbody tr th {\n",
       "        vertical-align: top;\n",
       "    }\n",
       "\n",
       "    .dataframe thead th {\n",
       "        text-align: right;\n",
       "    }\n",
       "</style>\n",
       "<table border=\"1\" class=\"dataframe\">\n",
       "  <thead>\n",
       "    <tr style=\"text-align: right;\">\n",
       "      <th></th>\n",
       "      <th>client_id</th>\n",
       "      <th>visitor_id</th>\n",
       "      <th>visit_id</th>\n",
       "      <th>process_step</th>\n",
       "      <th>date_time</th>\n",
       "      <th>Variation</th>\n",
       "    </tr>\n",
       "  </thead>\n",
       "  <tbody>\n",
       "    <tr>\n",
       "      <th>0</th>\n",
       "      <td>6265388</td>\n",
       "      <td>100019786_4272121951</td>\n",
       "      <td>703380671_89376183829_330646</td>\n",
       "      <td>start</td>\n",
       "      <td>2017-04-15 15:13:33</td>\n",
       "      <td>Test</td>\n",
       "    </tr>\n",
       "    <tr>\n",
       "      <th>1</th>\n",
       "      <td>6265388</td>\n",
       "      <td>100019786_4272121951</td>\n",
       "      <td>703380671_89376183829_330646</td>\n",
       "      <td>step_1</td>\n",
       "      <td>2017-04-15 15:13:46</td>\n",
       "      <td>Test</td>\n",
       "    </tr>\n",
       "    <tr>\n",
       "      <th>2</th>\n",
       "      <td>6265388</td>\n",
       "      <td>100019786_4272121951</td>\n",
       "      <td>703380671_89376183829_330646</td>\n",
       "      <td>step_2</td>\n",
       "      <td>2017-04-15 15:14:21</td>\n",
       "      <td>Test</td>\n",
       "    </tr>\n",
       "    <tr>\n",
       "      <th>3</th>\n",
       "      <td>6265388</td>\n",
       "      <td>100019786_4272121951</td>\n",
       "      <td>703380671_89376183829_330646</td>\n",
       "      <td>step_3</td>\n",
       "      <td>2017-04-15 15:15:50</td>\n",
       "      <td>Test</td>\n",
       "    </tr>\n",
       "    <tr>\n",
       "      <th>4</th>\n",
       "      <td>6265388</td>\n",
       "      <td>100019786_4272121951</td>\n",
       "      <td>703380671_89376183829_330646</td>\n",
       "      <td>confirm</td>\n",
       "      <td>2017-04-15 15:16:18</td>\n",
       "      <td>Test</td>\n",
       "    </tr>\n",
       "    <tr>\n",
       "      <th>5</th>\n",
       "      <td>6265388</td>\n",
       "      <td>100019786_4272121951</td>\n",
       "      <td>703380671_89376183829_330646</td>\n",
       "      <td>confirm</td>\n",
       "      <td>2017-04-15 15:16:47</td>\n",
       "      <td>Test</td>\n",
       "    </tr>\n",
       "    <tr>\n",
       "      <th>6</th>\n",
       "      <td>2340487</td>\n",
       "      <td>100026388_52569174348</td>\n",
       "      <td>560716384_55516231568_734638</td>\n",
       "      <td>start</td>\n",
       "      <td>2017-06-09 18:37:47</td>\n",
       "      <td>Test</td>\n",
       "    </tr>\n",
       "    <tr>\n",
       "      <th>7</th>\n",
       "      <td>2340487</td>\n",
       "      <td>100026388_52569174348</td>\n",
       "      <td>560716384_55516231568_734638</td>\n",
       "      <td>start</td>\n",
       "      <td>2017-06-09 18:37:59</td>\n",
       "      <td>Test</td>\n",
       "    </tr>\n",
       "    <tr>\n",
       "      <th>8</th>\n",
       "      <td>2340487</td>\n",
       "      <td>100026388_52569174348</td>\n",
       "      <td>560716384_55516231568_734638</td>\n",
       "      <td>step_1</td>\n",
       "      <td>2017-06-09 18:38:06</td>\n",
       "      <td>Test</td>\n",
       "    </tr>\n",
       "    <tr>\n",
       "      <th>9</th>\n",
       "      <td>2340487</td>\n",
       "      <td>100026388_52569174348</td>\n",
       "      <td>560716384_55516231568_734638</td>\n",
       "      <td>start</td>\n",
       "      <td>2017-06-09 18:38:41</td>\n",
       "      <td>Test</td>\n",
       "    </tr>\n",
       "  </tbody>\n",
       "</table>\n",
       "</div>"
      ],
      "text/plain": [
       "   client_id             visitor_id                      visit_id  \\\n",
       "0    6265388   100019786_4272121951  703380671_89376183829_330646   \n",
       "1    6265388   100019786_4272121951  703380671_89376183829_330646   \n",
       "2    6265388   100019786_4272121951  703380671_89376183829_330646   \n",
       "3    6265388   100019786_4272121951  703380671_89376183829_330646   \n",
       "4    6265388   100019786_4272121951  703380671_89376183829_330646   \n",
       "5    6265388   100019786_4272121951  703380671_89376183829_330646   \n",
       "6    2340487  100026388_52569174348  560716384_55516231568_734638   \n",
       "7    2340487  100026388_52569174348  560716384_55516231568_734638   \n",
       "8    2340487  100026388_52569174348  560716384_55516231568_734638   \n",
       "9    2340487  100026388_52569174348  560716384_55516231568_734638   \n",
       "\n",
       "  process_step           date_time Variation  \n",
       "0        start 2017-04-15 15:13:33      Test  \n",
       "1       step_1 2017-04-15 15:13:46      Test  \n",
       "2       step_2 2017-04-15 15:14:21      Test  \n",
       "3       step_3 2017-04-15 15:15:50      Test  \n",
       "4      confirm 2017-04-15 15:16:18      Test  \n",
       "5      confirm 2017-04-15 15:16:47      Test  \n",
       "6        start 2017-06-09 18:37:47      Test  \n",
       "7        start 2017-06-09 18:37:59      Test  \n",
       "8       step_1 2017-06-09 18:38:06      Test  \n",
       "9        start 2017-06-09 18:38:41      Test  "
      ]
     },
     "execution_count": 89,
     "metadata": {},
     "output_type": "execute_result"
    }
   ],
   "source": [
    "df_combined = pd.merge(df_web, df_clients, on=\"client_id\", how='inner')\n",
    "# Set option to display all rows\n",
    "df_combined.head(10)"
   ]
  },
  {
   "cell_type": "code",
   "execution_count": 90,
   "id": "739dbc9b-365b-41e7-be96-099a0154c388",
   "metadata": {},
   "outputs": [
    {
     "data": {
      "text/plain": [
       "(317235, 6)"
      ]
     },
     "execution_count": 90,
     "metadata": {},
     "output_type": "execute_result"
    }
   ],
   "source": [
    "df_combined.shape"
   ]
  },
  {
   "cell_type": "code",
   "execution_count": 91,
   "id": "a551da43-5e2d-45b0-a02a-f475f3cc9515",
   "metadata": {},
   "outputs": [
    {
     "data": {
      "text/html": [
       "<div>\n",
       "<style scoped>\n",
       "    .dataframe tbody tr th:only-of-type {\n",
       "        vertical-align: middle;\n",
       "    }\n",
       "\n",
       "    .dataframe tbody tr th {\n",
       "        vertical-align: top;\n",
       "    }\n",
       "\n",
       "    .dataframe thead th {\n",
       "        text-align: right;\n",
       "    }\n",
       "</style>\n",
       "<table border=\"1\" class=\"dataframe\">\n",
       "  <thead>\n",
       "    <tr style=\"text-align: right;\">\n",
       "      <th></th>\n",
       "      <th>client_id</th>\n",
       "      <th>visitor_id</th>\n",
       "      <th>visit_id</th>\n",
       "      <th>process_step</th>\n",
       "      <th>date_time</th>\n",
       "      <th>Variation</th>\n",
       "    </tr>\n",
       "  </thead>\n",
       "  <tbody>\n",
       "    <tr>\n",
       "      <th>0</th>\n",
       "      <td>6265388</td>\n",
       "      <td>100019786_4272121951</td>\n",
       "      <td>703380671_89376183829_330646</td>\n",
       "      <td>start</td>\n",
       "      <td>2017-04-15 15:13:33</td>\n",
       "      <td>Test</td>\n",
       "    </tr>\n",
       "    <tr>\n",
       "      <th>1</th>\n",
       "      <td>6265388</td>\n",
       "      <td>100019786_4272121951</td>\n",
       "      <td>703380671_89376183829_330646</td>\n",
       "      <td>step_1</td>\n",
       "      <td>2017-04-15 15:13:46</td>\n",
       "      <td>Test</td>\n",
       "    </tr>\n",
       "    <tr>\n",
       "      <th>2</th>\n",
       "      <td>6265388</td>\n",
       "      <td>100019786_4272121951</td>\n",
       "      <td>703380671_89376183829_330646</td>\n",
       "      <td>step_2</td>\n",
       "      <td>2017-04-15 15:14:21</td>\n",
       "      <td>Test</td>\n",
       "    </tr>\n",
       "    <tr>\n",
       "      <th>3</th>\n",
       "      <td>6265388</td>\n",
       "      <td>100019786_4272121951</td>\n",
       "      <td>703380671_89376183829_330646</td>\n",
       "      <td>step_3</td>\n",
       "      <td>2017-04-15 15:15:50</td>\n",
       "      <td>Test</td>\n",
       "    </tr>\n",
       "    <tr>\n",
       "      <th>4</th>\n",
       "      <td>6265388</td>\n",
       "      <td>100019786_4272121951</td>\n",
       "      <td>703380671_89376183829_330646</td>\n",
       "      <td>confirm</td>\n",
       "      <td>2017-04-15 15:16:18</td>\n",
       "      <td>Test</td>\n",
       "    </tr>\n",
       "    <tr>\n",
       "      <th>...</th>\n",
       "      <td>...</td>\n",
       "      <td>...</td>\n",
       "      <td>...</td>\n",
       "      <td>...</td>\n",
       "      <td>...</td>\n",
       "      <td>...</td>\n",
       "    </tr>\n",
       "    <tr>\n",
       "      <th>317221</th>\n",
       "      <td>5802950</td>\n",
       "      <td>999997533_50295491521</td>\n",
       "      <td>584953917_38889231276_551903</td>\n",
       "      <td>step_1</td>\n",
       "      <td>2017-04-12 08:10:14</td>\n",
       "      <td>Test</td>\n",
       "    </tr>\n",
       "    <tr>\n",
       "      <th>317222</th>\n",
       "      <td>5802950</td>\n",
       "      <td>999997533_50295491521</td>\n",
       "      <td>584953917_38889231276_551903</td>\n",
       "      <td>step_2</td>\n",
       "      <td>2017-04-12 08:10:41</td>\n",
       "      <td>Test</td>\n",
       "    </tr>\n",
       "    <tr>\n",
       "      <th>317223</th>\n",
       "      <td>5802950</td>\n",
       "      <td>999997533_50295491521</td>\n",
       "      <td>584953917_38889231276_551903</td>\n",
       "      <td>step_3</td>\n",
       "      <td>2017-04-12 08:11:48</td>\n",
       "      <td>Test</td>\n",
       "    </tr>\n",
       "    <tr>\n",
       "      <th>317224</th>\n",
       "      <td>5802950</td>\n",
       "      <td>999997533_50295491521</td>\n",
       "      <td>584953917_38889231276_551903</td>\n",
       "      <td>confirm</td>\n",
       "      <td>2017-04-12 08:13:08</td>\n",
       "      <td>Test</td>\n",
       "    </tr>\n",
       "    <tr>\n",
       "      <th>317225</th>\n",
       "      <td>5802950</td>\n",
       "      <td>999997533_50295491521</td>\n",
       "      <td>826796236_36192047424_492842</td>\n",
       "      <td>confirm</td>\n",
       "      <td>2017-04-13 07:41:14</td>\n",
       "      <td>Test</td>\n",
       "    </tr>\n",
       "  </tbody>\n",
       "</table>\n",
       "<p>176699 rows × 6 columns</p>\n",
       "</div>"
      ],
      "text/plain": [
       "        client_id             visitor_id                      visit_id  \\\n",
       "0         6265388   100019786_4272121951  703380671_89376183829_330646   \n",
       "1         6265388   100019786_4272121951  703380671_89376183829_330646   \n",
       "2         6265388   100019786_4272121951  703380671_89376183829_330646   \n",
       "3         6265388   100019786_4272121951  703380671_89376183829_330646   \n",
       "4         6265388   100019786_4272121951  703380671_89376183829_330646   \n",
       "...           ...                    ...                           ...   \n",
       "317221    5802950  999997533_50295491521  584953917_38889231276_551903   \n",
       "317222    5802950  999997533_50295491521  584953917_38889231276_551903   \n",
       "317223    5802950  999997533_50295491521  584953917_38889231276_551903   \n",
       "317224    5802950  999997533_50295491521  584953917_38889231276_551903   \n",
       "317225    5802950  999997533_50295491521  826796236_36192047424_492842   \n",
       "\n",
       "       process_step           date_time Variation  \n",
       "0             start 2017-04-15 15:13:33      Test  \n",
       "1            step_1 2017-04-15 15:13:46      Test  \n",
       "2            step_2 2017-04-15 15:14:21      Test  \n",
       "3            step_3 2017-04-15 15:15:50      Test  \n",
       "4           confirm 2017-04-15 15:16:18      Test  \n",
       "...             ...                 ...       ...  \n",
       "317221       step_1 2017-04-12 08:10:14      Test  \n",
       "317222       step_2 2017-04-12 08:10:41      Test  \n",
       "317223       step_3 2017-04-12 08:11:48      Test  \n",
       "317224      confirm 2017-04-12 08:13:08      Test  \n",
       "317225      confirm 2017-04-13 07:41:14      Test  \n",
       "\n",
       "[176699 rows x 6 columns]"
      ]
     },
     "execution_count": 91,
     "metadata": {},
     "output_type": "execute_result"
    }
   ],
   "source": [
    "df_test = df_combined[df_combined['Variation'] == 'Test']\n",
    "df_test"
   ]
  },
  {
   "cell_type": "code",
   "execution_count": 92,
   "id": "c8944d6b-fac0-484c-8c07-69dceb69c695",
   "metadata": {},
   "outputs": [
    {
     "data": {
      "text/html": [
       "<div>\n",
       "<style scoped>\n",
       "    .dataframe tbody tr th:only-of-type {\n",
       "        vertical-align: middle;\n",
       "    }\n",
       "\n",
       "    .dataframe tbody tr th {\n",
       "        vertical-align: top;\n",
       "    }\n",
       "\n",
       "    .dataframe thead th {\n",
       "        text-align: right;\n",
       "    }\n",
       "</style>\n",
       "<table border=\"1\" class=\"dataframe\">\n",
       "  <thead>\n",
       "    <tr style=\"text-align: right;\">\n",
       "      <th></th>\n",
       "      <th>client_id</th>\n",
       "      <th>visitor_id</th>\n",
       "      <th>visit_id</th>\n",
       "      <th>process_step</th>\n",
       "      <th>date_time</th>\n",
       "      <th>Variation</th>\n",
       "    </tr>\n",
       "  </thead>\n",
       "  <tbody>\n",
       "    <tr>\n",
       "      <th>15</th>\n",
       "      <td>762846</td>\n",
       "      <td>10008560_69050398598</td>\n",
       "      <td>248633003_84368331010_346467</td>\n",
       "      <td>start</td>\n",
       "      <td>2017-04-14 22:09:50</td>\n",
       "      <td>Control</td>\n",
       "    </tr>\n",
       "    <tr>\n",
       "      <th>16</th>\n",
       "      <td>762846</td>\n",
       "      <td>10008560_69050398598</td>\n",
       "      <td>248633003_84368331010_346467</td>\n",
       "      <td>step_1</td>\n",
       "      <td>2017-04-14 22:09:59</td>\n",
       "      <td>Control</td>\n",
       "    </tr>\n",
       "    <tr>\n",
       "      <th>17</th>\n",
       "      <td>762846</td>\n",
       "      <td>10008560_69050398598</td>\n",
       "      <td>248633003_84368331010_346467</td>\n",
       "      <td>step_2</td>\n",
       "      <td>2017-04-14 22:10:42</td>\n",
       "      <td>Control</td>\n",
       "    </tr>\n",
       "    <tr>\n",
       "      <th>18</th>\n",
       "      <td>762846</td>\n",
       "      <td>10008560_69050398598</td>\n",
       "      <td>248633003_84368331010_346467</td>\n",
       "      <td>step_2</td>\n",
       "      <td>2017-04-14 22:10:54</td>\n",
       "      <td>Control</td>\n",
       "    </tr>\n",
       "    <tr>\n",
       "      <th>19</th>\n",
       "      <td>762846</td>\n",
       "      <td>10008560_69050398598</td>\n",
       "      <td>248633003_84368331010_346467</td>\n",
       "      <td>step_3</td>\n",
       "      <td>2017-04-14 22:11:16</td>\n",
       "      <td>Control</td>\n",
       "    </tr>\n",
       "    <tr>\n",
       "      <th>...</th>\n",
       "      <td>...</td>\n",
       "      <td>...</td>\n",
       "      <td>...</td>\n",
       "      <td>...</td>\n",
       "      <td>...</td>\n",
       "      <td>...</td>\n",
       "    </tr>\n",
       "    <tr>\n",
       "      <th>317230</th>\n",
       "      <td>7042750</td>\n",
       "      <td>999998529_89539814462</td>\n",
       "      <td>583327415_19513940564_488564</td>\n",
       "      <td>step_2</td>\n",
       "      <td>2017-04-12 11:55:05</td>\n",
       "      <td>Control</td>\n",
       "    </tr>\n",
       "    <tr>\n",
       "      <th>317231</th>\n",
       "      <td>7042750</td>\n",
       "      <td>999998529_89539814462</td>\n",
       "      <td>583327415_19513940564_488564</td>\n",
       "      <td>step_3</td>\n",
       "      <td>2017-04-12 11:55:13</td>\n",
       "      <td>Control</td>\n",
       "    </tr>\n",
       "    <tr>\n",
       "      <th>317232</th>\n",
       "      <td>7042750</td>\n",
       "      <td>999998529_89539814462</td>\n",
       "      <td>583327415_19513940564_488564</td>\n",
       "      <td>confirm</td>\n",
       "      <td>2017-04-12 12:04:47</td>\n",
       "      <td>Control</td>\n",
       "    </tr>\n",
       "    <tr>\n",
       "      <th>317233</th>\n",
       "      <td>7042750</td>\n",
       "      <td>999998529_89539814462</td>\n",
       "      <td>583327415_19513940564_488564</td>\n",
       "      <td>start</td>\n",
       "      <td>2017-04-12 12:09:29</td>\n",
       "      <td>Control</td>\n",
       "    </tr>\n",
       "    <tr>\n",
       "      <th>317234</th>\n",
       "      <td>7042750</td>\n",
       "      <td>999998529_89539814462</td>\n",
       "      <td>583327415_19513940564_488564</td>\n",
       "      <td>step_1</td>\n",
       "      <td>2017-04-12 12:09:47</td>\n",
       "      <td>Control</td>\n",
       "    </tr>\n",
       "  </tbody>\n",
       "</table>\n",
       "<p>140536 rows × 6 columns</p>\n",
       "</div>"
      ],
      "text/plain": [
       "        client_id             visitor_id                      visit_id  \\\n",
       "15         762846   10008560_69050398598  248633003_84368331010_346467   \n",
       "16         762846   10008560_69050398598  248633003_84368331010_346467   \n",
       "17         762846   10008560_69050398598  248633003_84368331010_346467   \n",
       "18         762846   10008560_69050398598  248633003_84368331010_346467   \n",
       "19         762846   10008560_69050398598  248633003_84368331010_346467   \n",
       "...           ...                    ...                           ...   \n",
       "317230    7042750  999998529_89539814462  583327415_19513940564_488564   \n",
       "317231    7042750  999998529_89539814462  583327415_19513940564_488564   \n",
       "317232    7042750  999998529_89539814462  583327415_19513940564_488564   \n",
       "317233    7042750  999998529_89539814462  583327415_19513940564_488564   \n",
       "317234    7042750  999998529_89539814462  583327415_19513940564_488564   \n",
       "\n",
       "       process_step           date_time Variation  \n",
       "15            start 2017-04-14 22:09:50   Control  \n",
       "16           step_1 2017-04-14 22:09:59   Control  \n",
       "17           step_2 2017-04-14 22:10:42   Control  \n",
       "18           step_2 2017-04-14 22:10:54   Control  \n",
       "19           step_3 2017-04-14 22:11:16   Control  \n",
       "...             ...                 ...       ...  \n",
       "317230       step_2 2017-04-12 11:55:05   Control  \n",
       "317231       step_3 2017-04-12 11:55:13   Control  \n",
       "317232      confirm 2017-04-12 12:04:47   Control  \n",
       "317233        start 2017-04-12 12:09:29   Control  \n",
       "317234       step_1 2017-04-12 12:09:47   Control  \n",
       "\n",
       "[140536 rows x 6 columns]"
      ]
     },
     "execution_count": 92,
     "metadata": {},
     "output_type": "execute_result"
    }
   ],
   "source": [
    "df_control = df_combined[df_combined['Variation'] == 'Control']\n",
    "df_control"
   ]
  },
  {
   "cell_type": "code",
   "execution_count": 93,
   "id": "f959b6ec-1902-4176-9a58-b36b7cddf7d6",
   "metadata": {},
   "outputs": [
    {
     "data": {
      "text/plain": [
       "54.44693302507044"
      ]
     },
     "execution_count": 93,
     "metadata": {},
     "output_type": "execute_result"
    }
   ],
   "source": [
    "# 1) Completion Rate - overall\n",
    "# Identify unique visit sessions where the user reached the \"confirm\" step\n",
    "total_visits = df_combined[\"visit_id\"].nunique()\n",
    "visits_completed = df_combined[df_combined[\"process_step\"] == \"confirm\"][\"visit_id\"].nunique()\n",
    "overall_visit_completion_rate = (visits_completed / total_visits) * 100\n",
    "\n",
    "overall_visit_completion_rate"
   ]
  },
  {
   "cell_type": "code",
   "execution_count": 94,
   "id": "117f59ea-460d-42ee-a291-9cc2b45d8b26",
   "metadata": {},
   "outputs": [
    {
     "data": {
      "text/plain": [
       "49.84932740998478"
      ]
     },
     "execution_count": 94,
     "metadata": {},
     "output_type": "execute_result"
    }
   ],
   "source": [
    "# Completion Rate - control\n",
    "control_total_visits = df_control[\"visit_id\"].nunique()\n",
    "control_visits_completed = df_control[df_control[\"process_step\"] == \"confirm\"][\"visit_id\"].nunique()\n",
    "control_visit_completion_rate = (control_visits_completed / control_total_visits) * 100\n",
    "\n",
    "control_visit_completion_rate"
   ]
  },
  {
   "cell_type": "code",
   "execution_count": 95,
   "id": "2d181d60-3f59-4dcb-a6d9-19c53d4dfe93",
   "metadata": {},
   "outputs": [
    {
     "data": {
      "text/plain": [
       "58.51734166307626"
      ]
     },
     "execution_count": 95,
     "metadata": {},
     "output_type": "execute_result"
    }
   ],
   "source": [
    "# Completion Rate - test\n",
    "test_total_visits = df_test[\"visit_id\"].nunique()\n",
    "test_visits_completed = df_test[df_test[\"process_step\"] == \"confirm\"][\"visit_id\"].nunique()\n",
    "test_visit_completion_rate = (test_visits_completed / test_total_visits) * 100\n",
    "\n",
    "test_visit_completion_rate"
   ]
  },
  {
   "cell_type": "code",
   "execution_count": 96,
   "id": "cf18c684-cd6d-4ad9-8d55-d92285d41f2a",
   "metadata": {},
   "outputs": [
    {
     "data": {
      "text/plain": [
       "67.56633663366337"
      ]
     },
     "execution_count": 96,
     "metadata": {},
     "output_type": "execute_result"
    }
   ],
   "source": [
    "total_users = df_combined[\"client_id\"].nunique()\n",
    "users_completed = df_combined[df_combined[\"process_step\"] == \"confirm\"][\"client_id\"].nunique()\n",
    "overall_user_completion_rate = (users_completed / total_users) * 100\n",
    "\n",
    "overall_user_completion_rate"
   ]
  },
  {
   "cell_type": "code",
   "execution_count": 97,
   "id": "a520c129-4040-4c9e-8a1c-5b50f6e252d2",
   "metadata": {},
   "outputs": [
    {
     "data": {
      "text/plain": [
       "65.58728539860616"
      ]
     },
     "execution_count": 97,
     "metadata": {},
     "output_type": "execute_result"
    }
   ],
   "source": [
    "control_total_users = df_control[\"client_id\"].nunique()\n",
    "control_users_completed = df_control[df_control[\"process_step\"] == \"confirm\"][\"client_id\"].nunique()\n",
    "control_user_completion_rate = (control_users_completed / control_total_users) * 100\n",
    "\n",
    "control_user_completion_rate"
   ]
  },
  {
   "cell_type": "code",
   "execution_count": 98,
   "id": "bc834515-5797-41d5-b287-5f2498cab241",
   "metadata": {},
   "outputs": [
    {
     "data": {
      "text/plain": [
       "67.56633663366337"
      ]
     },
     "execution_count": 98,
     "metadata": {},
     "output_type": "execute_result"
    }
   ],
   "source": [
    "test_total_users = df_test[\"client_id\"].nunique()\n",
    "test_users_completed = df_test[df_test[\"process_step\"] == \"confirm\"][\"client_id\"].nunique()\n",
    "test_user_completion_rate = (users_completed / total_users) * 100\n",
    "\n",
    "test_user_completion_rate"
   ]
  },
  {
   "cell_type": "code",
   "execution_count": 99,
   "id": "68f01a1a-8911-4d46-8f9d-3faf84900a92",
   "metadata": {},
   "outputs": [
    {
     "name": "stdout",
     "output_type": "stream",
     "text": [
      "Average number of visit IDs per client ID: 1.375188118811881\n"
     ]
    }
   ],
   "source": [
    "\n",
    "# Count the number of unique visitor_ids for each client_id\n",
    "visitor_counts = df_combined.groupby('client_id')['visit_id'].nunique()\n",
    "\n",
    "# Calculate the average number of visitor_ids per client_id\n",
    "average_visitor_ids = visitor_counts.mean()\n",
    "\n",
    "# Print the result\n",
    "print(f\"Average number of visit IDs per client ID: {average_visitor_ids}\")\n"
   ]
  },
  {
   "cell_type": "code",
   "execution_count": 100,
   "id": "45f96842-53ab-48d0-830d-36312f6e478b",
   "metadata": {},
   "outputs": [],
   "source": [
    "# 3) Error Rate (moving backward in steps)\n",
    "\n",
    "#create a new column for the step\n",
    "df_combined[\"step_num\"] = df_combined[\"process_step\"].map(step_order)\n",
    "\n",
    "\n",
    "#create a new column for the previous step\n",
    "df_combined[\"prev_step_num\"] = df_combined.groupby(\"visit_id\")[\"step_num\"].shift(1)\n",
    "\n",
    "\n",
    "#create a new column to compare the 2 to see if the steps are sequential \n",
    "df_combined[\"error\"] = df_combined[\"step_num\"] < df_combined[\"prev_step_num\"]\n"
   ]
  },
  {
   "cell_type": "code",
   "execution_count": 101,
   "id": "48674eaf-bc72-4c99-a9cb-6786201d0eb3",
   "metadata": {},
   "outputs": [
    {
     "ename": "NameError",
     "evalue": "name 'df_avg_time_control' is not defined",
     "output_type": "error",
     "traceback": [
      "\u001b[0;31m---------------------------------------------------------------------------\u001b[0m",
      "\u001b[0;31mNameError\u001b[0m                                 Traceback (most recent call last)",
      "Cell \u001b[0;32mIn[101], line 42\u001b[0m\n\u001b[1;32m     39\u001b[0m custom_order \u001b[38;5;241m=\u001b[39m [\u001b[38;5;124m\"\u001b[39m\u001b[38;5;124mstart\u001b[39m\u001b[38;5;124m\"\u001b[39m, \u001b[38;5;124m\"\u001b[39m\u001b[38;5;124mstep_1\u001b[39m\u001b[38;5;124m\"\u001b[39m, \u001b[38;5;124m\"\u001b[39m\u001b[38;5;124mstep_2\u001b[39m\u001b[38;5;124m\"\u001b[39m, \u001b[38;5;124m\"\u001b[39m\u001b[38;5;124mstep_3\u001b[39m\u001b[38;5;124m\"\u001b[39m, \u001b[38;5;124m\"\u001b[39m\u001b[38;5;124mconfirm\u001b[39m\u001b[38;5;124m\"\u001b[39m]\n\u001b[1;32m     41\u001b[0m \u001b[38;5;66;03m# Apply custom sorting to each dataframe\u001b[39;00m\n\u001b[0;32m---> 42\u001b[0m \u001b[38;5;28;01mfor\u001b[39;00m df \u001b[38;5;129;01min\u001b[39;00m [df_avg_time_control, df_avg_time_overall, df_avg_time_test]:\n\u001b[1;32m     43\u001b[0m     df[\u001b[38;5;124m\"\u001b[39m\u001b[38;5;124mprocess_step\u001b[39m\u001b[38;5;124m\"\u001b[39m] \u001b[38;5;241m=\u001b[39m pd\u001b[38;5;241m.\u001b[39mCategorical(df[\u001b[38;5;124m\"\u001b[39m\u001b[38;5;124mprocess_step\u001b[39m\u001b[38;5;124m\"\u001b[39m], categories\u001b[38;5;241m=\u001b[39mcustom_order, ordered\u001b[38;5;241m=\u001b[39m\u001b[38;5;28;01mTrue\u001b[39;00m)\n\u001b[1;32m     44\u001b[0m     df\u001b[38;5;241m.\u001b[39msort_values(by\u001b[38;5;241m=\u001b[39m\u001b[38;5;124m\"\u001b[39m\u001b[38;5;124mprocess_step\u001b[39m\u001b[38;5;124m\"\u001b[39m, inplace\u001b[38;5;241m=\u001b[39m\u001b[38;5;28;01mTrue\u001b[39;00m)\n",
      "\u001b[0;31mNameError\u001b[0m: name 'df_avg_time_control' is not defined"
     ]
    }
   ],
   "source": [
    "# Combined Function to calculate average time per step, counts, drop-off rate, and errors\n",
    "def calculate_avg_time(df):\n",
    "    # Compute time difference in seconds\n",
    "    df[\"time_diff\"] = df.groupby(\"visit_id\")[\"date_time\"].diff().dt.total_seconds()\n",
    "\n",
    "    # Compute average time per step\n",
    "    avg_time_per_step = df.groupby(\"process_step\")[\"time_diff\"].mean()\n",
    "\n",
    "    # Convert to H:M:S format\n",
    "    avg_time_per_step_hms = pd.to_timedelta(avg_time_per_step, unit=\"s\")\n",
    "\n",
    "    # Convert to DataFrame\n",
    "    df_avg_time = pd.DataFrame({\n",
    "        \"process_step\": avg_time_per_step_hms.index,\n",
    "        \"avg_time_seconds\": avg_time_per_step.values,\n",
    "        \"avg_time_hms\": avg_time_per_step_hms.astype(str)  # Convert to string for readability\n",
    "    }).reset_index(drop=True)\n",
    "\n",
    "    # Add counts for client_id, visit_id, and process_step\n",
    "    client_id_count = df.groupby(\"process_step\")[\"client_id\"].nunique()  # Count unique client_id per step\n",
    "    visit_id_count = df.groupby(\"process_step\")[\"visit_id\"].nunique()  # Count unique visit_id per step\n",
    "    step_count = df.groupby(\"process_step\")[\"process_step\"].size()  # Count occurrences of each step\n",
    "    \n",
    "    # Compute total errors per step (assuming an 'error' column with 1 for errors and 0 for no errors)\n",
    "    error_count = df.groupby(\"process_step\")[\"error\"].sum()  # Sum of errors per step\n",
    "\n",
    "    # Merge these counts into the df_avg_time DataFrame\n",
    "    df_avg_time[\"step_count\"] = df_avg_time[\"process_step\"].map(step_count) \n",
    "    df_avg_time[\"visit_id_count\"] = df_avg_time[\"process_step\"].map(visit_id_count)\n",
    "    df_avg_time[\"client_id_count\"] = df_avg_time[\"process_step\"].map(client_id_count)\n",
    "    df_avg_time[\"error_count\"] = df_avg_time[\"process_step\"].map(error_count)\n",
    "\n",
    "    return df_avg_time\n",
    "    \n",
    "# Compute for each dataset with counts, drop-off rate, and errors\n",
    "df_avg_time_overall = calculate_avg_time(df_combined)\n",
    "\n",
    "# Define custom order for process_step\n",
    "custom_order = [\"start\", \"step_1\", \"step_2\", \"step_3\", \"confirm\"]\n",
    "\n",
    "# Apply custom sorting to each dataframe\n",
    "for df in [df_avg_time_control, df_avg_time_overall, df_avg_time_test]:\n",
    "    df[\"process_step\"] = pd.Categorical(df[\"process_step\"], categories=custom_order, ordered=True)\n",
    "    df.sort_values(by=\"process_step\", inplace=True)\n",
    "    df.reset_index(drop=True, inplace=True)"
   ]
  },
  {
   "cell_type": "code",
   "execution_count": null,
   "id": "9205c29f-e979-47ac-ab3a-ecf1462855c7",
   "metadata": {},
   "outputs": [],
   "source": [
    "# Identify backward movements\n",
    "\n",
    "df_combined"
   ]
  },
  {
   "cell_type": "code",
   "execution_count": null,
   "id": "f69149c7-2cc7-4ed4-8ab6-d8216309678d",
   "metadata": {},
   "outputs": [],
   "source": [
    "df_control"
   ]
  },
  {
   "cell_type": "code",
   "execution_count": null,
   "id": "00b129cc-409b-4c83-b015-a04246a74c24",
   "metadata": {},
   "outputs": [],
   "source": [
    "df_test"
   ]
  },
  {
   "cell_type": "code",
   "execution_count": null,
   "id": "88097b4a-f1ce-4da3-abc3-8ad42c0efe2b",
   "metadata": {},
   "outputs": [],
   "source": [
    "# Calculate error rate\n",
    "total_sessions_combined = df_combined[\"visit_id\"].nunique()\n",
    "sessions_with_errors_combined = df_combined.groupby(\"visit_id\")[\"error\"].any().sum()\n",
    "error_rate_combined = (sessions_with_errors_combined / total_sessions_combined) * 100\n",
    "error_rate_combined"
   ]
  },
  {
   "cell_type": "code",
   "execution_count": null,
   "id": "7c96b2c6-94ef-4db7-b47b-acd54ba52da5",
   "metadata": {},
   "outputs": [],
   "source": [
    "sessions_with_errors_combined"
   ]
  },
  {
   "cell_type": "code",
   "execution_count": null,
   "id": "240b38bb-2c5e-4c56-ba58-a5509d689d40",
   "metadata": {},
   "outputs": [],
   "source": [
    "#control\n",
    "total_sessions_control = df_control[\"visit_id\"].nunique()\n",
    "sessions_with_errors_control = df_control.groupby(\"visit_id\")[\"error\"].any().sum()\n",
    "error_rate_control = (sessions_with_errors_control / total_sessions_control) * 100\n",
    "error_rate_control"
   ]
  },
  {
   "cell_type": "code",
   "execution_count": null,
   "id": "25d371e5-cc20-4ec0-9444-5873908404fa",
   "metadata": {},
   "outputs": [],
   "source": [
    "#test\n",
    "total_sessions_test = df_test[\"visit_id\"].nunique()\n",
    "sessions_with_errors_test = df_test.groupby(\"visit_id\")[\"error\"].any().sum()\n",
    "error_rate_test = (sessions_with_errors_test / total_sessions_test) * 100\n",
    "error_rate_test"
   ]
  },
  {
   "cell_type": "code",
   "execution_count": null,
   "id": "31e66601-3f81-4f9d-9626-a496c45fe6ba",
   "metadata": {},
   "outputs": [],
   "source": [
    "\n",
    "# Create a dictionary of the results\n",
    "completion_data = {\n",
    "    'Overall_visit_completion': [overall_visit_completion_rate],\n",
    "    'Control_visit_completion': [control_visit_completion_rate],\n",
    "    'Test_visit_completion': [test_visit_completion_rate],\n",
    "    'Overall_user_completion': [overall_user_completion_rate],\n",
    "    'Control_user_completion': [control_user_completion_rate],\n",
    "    'Test_user_completion': [test_user_completion_rate],  \n",
    "}\n",
    "\n",
    "# Create a DataFrame from the dictionary\n",
    "df_completion_rate = pd.DataFrame(completion_data)\n",
    "\n",
    "# Show the new DataFrame\n",
    "df_completion_rate\n"
   ]
  },
  {
   "cell_type": "code",
   "execution_count": null,
   "id": "906fe1ff-508f-4ee9-86b5-dfc7938fc70d",
   "metadata": {},
   "outputs": [],
   "source": [
    "\n",
    "# Create a dictionary of the results\n",
    "error_rate = {\n",
    "    'Overall': [error_rate_combined],\n",
    "    'Control': [error_rate_control],\n",
    "    'Test': [error_rate_test]\n",
    "}\n",
    "\n",
    "# Create a DataFrame from the dictionary\n",
    "df_error_rate = pd.DataFrame(error_rate)\n",
    "\n",
    "# Show the new DataFrame\n",
    "print(df_error_rate)"
   ]
  },
  {
   "cell_type": "code",
   "execution_count": null,
   "id": "40419fa6-77e2-46e3-af17-b22a6fe86928",
   "metadata": {},
   "outputs": [],
   "source": [
    "# Display results\n",
    "df_avg_time_overall"
   ]
  },
  {
   "cell_type": "code",
   "execution_count": null,
   "id": "0a59988a-b1ef-4955-891f-7d2ce99dd8e3",
   "metadata": {},
   "outputs": [],
   "source": [
    "df_avg_time_control"
   ]
  },
  {
   "cell_type": "code",
   "execution_count": null,
   "id": "4d98d890-e398-4036-8757-df7f5ac2664b",
   "metadata": {},
   "outputs": [],
   "source": [
    "df_avg_time_test"
   ]
  },
  {
   "cell_type": "markdown",
   "id": "3d81ab3a-b0a0-413d-890f-446ed02d19c5",
   "metadata": {},
   "source": [
    "Summary\n",
    "\n",
    "- The test group has a higher completion rate, but also a higher error rate.\n",
    "- "
   ]
  },
  {
   "cell_type": "code",
   "execution_count": null,
   "id": "65b1b6e9-db5a-4172-b6aa-5d9462e646bd",
   "metadata": {},
   "outputs": [],
   "source": [
    "Test group (new design)\n",
    "Control group (old design)"
   ]
  },
  {
   "cell_type": "markdown",
   "id": "f16b036f-aa41-41dc-bdcf-e5147a06a151",
   "metadata": {},
   "source": [
    "Completion rate\n",
    "\n",
    "Completion rates are the same or less for the  new design than the old design.\n",
    "\n",
    "Mathematically: H₀: Completion rate (Test) <= Completion rate (Control)\n",
    "\n",
    "The Completion rate is higher for the new design than for the old design.\n",
    "\n",
    "Mathematically: H₁: Completion rate (Test) > Completion rate (Control)\n",
    "\n"
   ]
  },
  {
   "cell_type": "code",
   "execution_count": null,
   "id": "f5aeeb6e-e7b2-4c68-a022-82d16c5b7a6e",
   "metadata": {},
   "outputs": [],
   "source": [
    "\n",
    "alpha = 0.05\n",
    "\n",
    "# Perform Z-test for proportions\n",
    "count = np.array([test_visits_completed, control_visits_completed])  # Successes in each group\n",
    "nobs = np.array([test_total_visits, control_total_visits])  # Total observations in each group\n",
    "\n",
    "z_stat, p_value = proportions_ztest(count, nobs, alternative='larger')\n",
    "\n",
    "# Print results\n",
    "print(f\"Z-statistic: {z_stat}\")\n",
    "print(f\"P-value: {p_value}\")\n",
    "\n",
    "# Interpret the result\n",
    "alpha = 0.05  # Significance level\n",
    "if p_value < alpha:\n",
    "    print(\"Reject the null hypothesis: Completion rates are the same or less for the  new design than the old design\")\n",
    "else:\n",
    "    print(\"Fail to reject the null hypothesis: Completion rates are the same or less for the  new design than the old design\")\n",
    "    "
   ]
  },
  {
   "cell_type": "code",
   "execution_count": null,
   "id": "8727ce67-8eae-42cf-aca0-1458298c88d2",
   "metadata": {},
   "outputs": [],
   "source": [
    "## import numpy as np\n",
    "from statsmodels.stats.proportion import proportions_ztest\n",
    "\n",
    "# Define the success counts and total observations for the test and control groups\n",
    "count = np.array([test_visits_completed, control_visits_completed])  # Successes\n",
    "nobs = np.array([test_total_visits, control_total_visits])  # Total observations\n",
    "\n",
    "# Calculate the difference in proportions\n",
    "test_proportion = test_visits_completed/ test_total_visits\n",
    "control_proportion = control_visits_completed / control_total_visits\n",
    "difference = test_proportion - control_proportion\n",
    "\n",
    "# Define the threshold for the difference (5% or 0.05)\n",
    "threshold = 0.05\n",
    "\n",
    "# Perform Z-test for proportions, comparing the test group with the control group + 5% threshold\n",
    "z_stat, p_value = proportions_ztest(count, nobs, value=threshold, alternative='larger')\n",
    "\n",
    "# Print the results\n",
    "print(f\"Z-statistic: {z_stat}\")\n",
    "print(f\"P-value: {p_value}\")\n",
    "\n",
    "# Interpret the result\n",
    "alpha = 0.05  # Significance level\n",
    "if p_value < alpha:\n",
    "    print(\"Reject the null hypothesis: The completion rate for the new design (test group) is 5% or lower in comparison to the old design (control group).\")\n",
    "else:\n",
    "    print(\"Fail to reject the null hypothesis: The completion rate for the new design (test group) is 5% or lower in comparison to the old design (control group).\")\n"
   ]
  },
  {
   "cell_type": "markdown",
   "id": "753d03e9-63e3-41b6-912d-0f170d373382",
   "metadata": {},
   "source": [
    "Completion Rate with Cost-Effectiveness Threshold\n",
    "\n",
    "The completion rate for the new design (test group) is 5% or lower in comparison to the old design (control group). \n",
    "Mathematically: H₀: (Completion rate Test - Completion rate Control) ≤ 5%\n",
    "\n",
    "The completion rate for the new design (Test group) is more than 5% higher than the old design (Control group).\n",
    "Mathematically: H₁: (Completion rate Test - Completion rate Control) > 5%"
   ]
  },
  {
   "cell_type": "markdown",
   "id": "60da0c8d-9a2b-4a45-9179-59a3a1f8af39",
   "metadata": {},
   "source": [
    "The error rates for the new design is lower than the old design. \n",
    "Mathematically: Error rate (Test) <= Error rate (Control)\n",
    "\n",
    "The error rates for the new design is higher than the old design. \n",
    "Mathematically: Error rate (Test) > Error rate (Control)"
   ]
  },
  {
   "cell_type": "code",
   "execution_count": null,
   "id": "5355ebd5-3e48-42d1-98da-3996546e1037",
   "metadata": {},
   "outputs": [],
   "source": [
    "df_error_control = df_control.groupby('visit_id')['error'].sum()\n",
    "df_error_control.value_counts()"
   ]
  },
  {
   "cell_type": "code",
   "execution_count": null,
   "id": "32b1cff2-0a31-494e-ae55-e6c6e651432d",
   "metadata": {},
   "outputs": [],
   "source": [
    "df_error_test = df_test.groupby('visit_id')['error'].sum()\n",
    "df_error_test"
   ]
  },
  {
   "cell_type": "code",
   "execution_count": null,
   "id": "a786aebf-03a2-49b1-b117-5e2f06379468",
   "metadata": {},
   "outputs": [],
   "source": [
    "alpha = 0.05\n",
    "\n",
    "# Perform the t-test\n",
    "error_tstat, error_p_value = st.ttest_ind(df_error_test, df_error_control, alternative = 'greater', equal_var=False)\n",
    "\n",
    "\n",
    "# Display results\n",
    "print(f'T-statistic: {error_tstat}, P-value: {error_p_value}')\n",
    "\n",
    "\n",
    "if p_value >= alpha:\n",
    "    print(\"We are not able to reject the null hypothesis\")\n",
    "else:\n",
    "    print(\"We reject the null hypothesis\")\n",
    "    \n",
    "error_tstat, error_p_value"
   ]
  },
  {
   "cell_type": "markdown",
   "id": "a7e2a200-71ce-456c-ae48-e8cfd5b6d9da",
   "metadata": {},
   "source": [
    "TASK: \n",
    "\n",
    "You are also required to carry out an evaluation of the experiment by answering questions about the design effectiveness, duration and any additional data needs. See the full details below:\n",
    "\n",
    "Design Effectiveness\n",
    "1) Was the experiment well-structured?\n",
    "2) Were clients randomly and equally divided between the old and new designs?\n",
    "3) Were there any biases?\n",
    "4) Duration Assessment\n",
    "Was the timeframe of the experiment (from 3/15/2017 to 6/20/2017) adequate to gather meaningful data and insights?\n",
    "\n",
    "Additional Data Needs\n",
    "What other data, if available, could enhance the analysis?\n"
   ]
  },
  {
   "cell_type": "code",
   "execution_count": null,
   "id": "d46c7a87-0214-4d27-a33a-1df8c1998dad",
   "metadata": {},
   "outputs": [],
   "source": [
    "unique_test_clients = df_combined[df_combined['Variation'] == 'Test']['client_id'].nunique()\n",
    "unique_test_clients"
   ]
  },
  {
   "cell_type": "code",
   "execution_count": null,
   "id": "e2c7ca97-8050-4d87-800e-becbb42d14cc",
   "metadata": {},
   "outputs": [],
   "source": [
    "unique_control_clients = df_combined[df_combined['Variation'] == 'Control']['client_id'].nunique()\n",
    "unique_control_clients"
   ]
  },
  {
   "cell_type": "code",
   "execution_count": null,
   "id": "ae677fe3-49d1-4461-92ca-9415728bf1ec",
   "metadata": {},
   "outputs": [],
   "source": [
    "average bias/characteristics "
   ]
  },
  {
   "cell_type": "code",
   "execution_count": null,
   "id": "0af7eacb-9b5b-4a89-9ea7-e50c63c5f4d6",
   "metadata": {},
   "outputs": [],
   "source": [
    "# Define the bins using numpy for easier calculation\n",
    "bins = np.arange(0, df_demo['age'].max() + 20, 20)\n",
    "# Create the histogram\n",
    "plt.figure(figsize=(10, 6))\n",
    "plt.hist(df_demo['age'], bins=bins, color='skyblue', edgecolor='black')\n",
    "plt.title('Age Distribution')\n",
    "plt.xlabel('Age')\n",
    "plt.ylabel('Count')\n",
    "plt.xticks(bins, rotation=45)  # To improve readability of x-axis labels\n",
    "plt.show()"
   ]
  },
  {
   "cell_type": "code",
   "execution_count": null,
   "id": "ea25a535-b0e5-4065-9d9a-df53ffe5d092",
   "metadata": {},
   "outputs": [],
   "source": [
    "\n",
    "# Merge the two DataFrames on 'client_id'\n",
    "df_merged = pd.merge(df_demo, df_combined, on='client_id')"
   ]
  },
  {
   "cell_type": "code",
   "execution_count": null,
   "id": "49ac3e7b-4192-4631-b005-3b8b6dc82962",
   "metadata": {},
   "outputs": [],
   "source": [
    "df_merged"
   ]
  },
  {
   "cell_type": "code",
   "execution_count": null,
   "id": "475c516d-3967-4ce3-a552-f7e90bb046fa",
   "metadata": {},
   "outputs": [],
   "source": [
    "df_merged_test = df_merged[df_merged['Variation'] == 'Test']"
   ]
  },
  {
   "cell_type": "code",
   "execution_count": null,
   "id": "d6fd3f8b-d6f9-4396-81f6-e9e145134e75",
   "metadata": {},
   "outputs": [],
   "source": [
    "df_merged_control = df_merged[df_merged['Variation'] == 'Control']"
   ]
  },
  {
   "cell_type": "code",
   "execution_count": null,
   "id": "995d39d4-77ab-4edb-9c96-3864ae4b2be3",
   "metadata": {},
   "outputs": [],
   "source": [
    "\n",
    "# Calculate histogram counts for Test and Control using numpy.histogram\n",
    "test_hist, test_bins = np.histogram(df_merged_test['age'], bins=bins)\n",
    "control_hist, control_bins = np.histogram(df_merged_control['age'], bins=bins)\n",
    "\n",
    "# Set the width for the bars to ensure they are side by side\n",
    "bar_width = 4  # Adjust this width for side-by-side bars\n",
    "\n",
    "# Plot the histograms side by side\n",
    "plt.figure(figsize=(10, 6))\n",
    "\n",
    "# Plot Test histogram (shifted left by bar_width/2)\n",
    "plt.bar(test_bins[:-1] - bar_width/2, test_hist, width=bar_width, color='skyblue', edgecolor='black', label='Test', alpha=0.7)\n",
    "\n",
    "# Plot Control histogram (shifted right by bar_width/2)\n",
    "plt.bar(control_bins[:-1] + bar_width/2, control_hist, width=bar_width, color='lightgreen', edgecolor='black', label='Control', alpha=0.7)\n",
    "\n",
    "# Add titles and labels\n",
    "plt.title('Age Distribution Split by Test and Control')\n",
    "plt.xlabel('Age')\n",
    "plt.ylabel('Count')\n",
    "\n",
    "# Improve readability of x-axis labels\n",
    "plt.xticks(bins, rotation=45)\n",
    "\n",
    "# Add legend\n",
    "plt.legend()\n",
    "\n",
    "# Show the plot\n",
    "plt.show()\n"
   ]
  },
  {
   "cell_type": "code",
   "execution_count": null,
   "id": "dacdc734-cbd1-4f22-a650-5fc2d8fd7128",
   "metadata": {},
   "outputs": [],
   "source": [
    "# Create the plot with sns.histplot() for balance split by 'Variation' (Test/Control)\n",
    "plt.figure(figsize=(10, 6))\n",
    "sns.histplot(data=df_merged, x='balance', hue='Variation', kde=True, bins=10, palette='crest', alpha=0.7)\n",
    "\n",
    "# Add titles and labels\n",
    "plt.title('Balance Distribution Split by Test and Control')\n",
    "plt.xlabel('Balance')\n",
    "plt.ylabel('Count')\n",
    "\n",
    "# Show the plot\n",
    "plt.show()\n"
   ]
  },
  {
   "cell_type": "code",
   "execution_count": null,
   "id": "745bdbaa-1cee-45d2-91c3-5c8b9e66e1bd",
   "metadata": {},
   "outputs": [],
   "source": [
    "\n",
    "# Applying Box-Cox transformation\n",
    "df_merged_test['balance'], _ = boxcox(df_merged_test['balance'])\n",
    "\n",
    "# Plotting the transformed distributions\n",
    "plt.figure(figsize=(10,5))\n",
    "\n",
    "# Box-Cox transformed 'LotArea'\n",
    "sns.histplot(df_merged_test['balance'], kde=True)\n",
    "plt.title('Box-Cox Transformed LotArea')\n",
    "plt.show()"
   ]
  },
  {
   "cell_type": "code",
   "execution_count": null,
   "id": "e8653502-ec85-4e75-9b4f-c0434891d956",
   "metadata": {},
   "outputs": [],
   "source": [
    "\n",
    "# Applying Box-Cox transformation to 'LotArea'\n",
    "df_merged_control['balance'], _ = boxcox(df_merged_control['balance'])\n",
    "\n",
    "# Plotting the transformed distributions\n",
    "plt.figure(figsize=(10,5))\n",
    "\n",
    "# Box-Cox transformed 'LotArea'\n",
    "sns.histplot(df_merged_control['balance'], kde=True)\n",
    "plt.title('Box-Cox Transformed LotArea')\n",
    "plt.show()"
   ]
  },
  {
   "cell_type": "code",
   "execution_count": null,
   "id": "9d8ec296-552d-42ee-9517-6740707d0eca",
   "metadata": {},
   "outputs": [],
   "source": [
    "import pandas as pd\n",
    "import numpy as np\n",
    "import seaborn as sns\n",
    "import matplotlib.pyplot as plt\n",
    "from scipy.stats import boxcox\n",
    "\n",
    "# Assuming df_demo contains 'client_id' and 'balance'\n",
    "# Assuming df_combined contains 'client_id' and 'Variation'\n",
    "\n",
    "# Merge the two DataFrames on 'client_id'\n",
    "df_merged = pd.merge(df_demo, df_combined, on='client_id')\n",
    "\n",
    "# Split the data into Test and Control groups\n",
    "df_merged_test = df_merged[df_merged['Variation'] == 'Test']\n",
    "df_merged_control = df_merged[df_merged['Variation'] == 'Control']\n",
    "\n",
    "# Apply the Box-Cox transformation to 'balance' for both Test and Control groups\n",
    "df_merged_test['balance'], _ = boxcox(df_merged_test['balance'] + 1)  # Adding 1 to avoid non-positive values\n",
    "df_merged_control['balance'], _ = boxcox(df_merged_control['balance'] + 1)\n",
    "\n",
    "# Plotting the transformed distributions for both Test and Control\n",
    "plt.figure(figsize=(10, 6))\n",
    "\n",
    "# Plot Test group's Box-Cox transformed 'balance'\n",
    "sns.histplot(df_merged_test['balance'], kde=True, color='skyblue', label='Test', alpha=0.7)\n",
    "\n",
    "# Plot Control group's Box-Cox transformed 'balance'\n",
    "sns.histplot(df_merged_control['balance'], kde=True, color='lightgreen', label='Control', alpha=0.7)\n",
    "\n",
    "# Add titles and labels\n",
    "plt.title('Box-Cox Transformed Balance Distribution (Test vs Control)')\n",
    "plt.xlabel('Transformed Balance')\n",
    "plt.ylabel('Count')\n",
    "\n",
    "# Show legend\n",
    "plt.legend()\n",
    "\n",
    "# Show the plot\n",
    "plt.show()\n"
   ]
  },
  {
   "cell_type": "code",
   "execution_count": null,
   "id": "5fd0f220-4352-4758-9c58-bf01c732fadc",
   "metadata": {},
   "outputs": [],
   "source": [
    "\n"
   ]
  },
  {
   "cell_type": "code",
   "execution_count": null,
   "id": "0271fa8f-bf9e-47aa-9808-632239dca8ca",
   "metadata": {},
   "outputs": [],
   "source": []
  },
  {
   "cell_type": "code",
   "execution_count": null,
   "id": "f5703abf-3e43-4c8a-94b2-56187e0dc1cf",
   "metadata": {},
   "outputs": [],
   "source": []
  }
 ],
 "metadata": {
  "kernelspec": {
   "display_name": "Python 3 (ipykernel)",
   "language": "python",
   "name": "python3"
  },
  "language_info": {
   "codemirror_mode": {
    "name": "ipython",
    "version": 3
   },
   "file_extension": ".py",
   "mimetype": "text/x-python",
   "name": "python",
   "nbconvert_exporter": "python",
   "pygments_lexer": "ipython3",
   "version": "3.12.7"
  }
 },
 "nbformat": 4,
 "nbformat_minor": 5
}
